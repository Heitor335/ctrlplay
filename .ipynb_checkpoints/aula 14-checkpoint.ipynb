{
 "cells": [
  {
   "cell_type": "code",
   "execution_count": 2,
   "id": "f422660e-cada-4ab9-8a5e-95bad9b06405",
   "metadata": {},
   "outputs": [
    {
     "name": "stdout",
     "output_type": "stream",
     "text": [
      "jose dias saraiva\n",
      "jose silva madureira\n"
     ]
    }
   ],
   "source": [
    "def sobrenomeNaOrdem(nome,sobrenome1,sobrenome2):\n",
    "    if len(sobrenome2)> len(sobrenome1):\n",
    "        return \"{} {} {}\".format(nome,sobrenome1,sobrenome2)\n",
    "    else:\n",
    "        return\"{} {} {}\".format(nome,sobrenome2,sobrenome1)\n",
    "\n",
    "#print(sobrenomeNaOrdem(\"jose\",\"dias\",\"saraiva\")) \n",
    "#print(sobrenomeNaOrdem(\"jose\",\"madureira\",\"silva\"))\n"
   ]
  },
  {
   "cell_type": "code",
   "execution_count": 8,
   "id": "8cfaa0f4-fc1a-4769-8aad-e26446bc4c6d",
   "metadata": {},
   "outputs": [
    {
     "name": "stderr",
     "output_type": "stream",
     "text": [
      ".\n",
      "----------------------------------------------------------------------\n",
      "Ran 1 test in 0.001s\n",
      "\n",
      "OK\n"
     ]
    },
    {
     "data": {
      "text/plain": [
       "<unittest.main.TestProgram at 0x19fc8c25fd0>"
      ]
     },
     "execution_count": 8,
     "metadata": {},
     "output_type": "execute_result"
    }
   ],
   "source": [
    "import unittest\n",
    "from nome import sobrenomeNaOrdem\n",
    "\n",
    "class NomeTest(unittest.TestCase):\n",
    "\n",
    "\n",
    "    def test_sobrenomeNaOrdem(self):\n",
    "\n",
    "\n",
    "        nomeCompleto = sobrenomeNaOrdem(\"heitor\",\"novinski\",\"manoel\")\n",
    "        self.assertEqual(nomeCompleto, (\"heitor manoel novinski\"))\n",
    "\n",
    "\n",
    "\n",
    "unittest.main(argv=[\"\"], exit=False)"
   ]
  },
  {
   "cell_type": "code",
   "execution_count": 14,
   "id": "56a1114f-fa79-4cc7-9837-b32e4d262299",
   "metadata": {},
   "outputs": [],
   "source": [
    "class Prova():\n",
    "\n",
    "    def __init__(self):\n",
    "        self.questao = []\n",
    "        self.resposta = []\n",
    "    def mostra_questoes(self):\n",
    "        print(self.questoes)\n",
    "\n",
    "    def mostra_resposta(self):\n",
    "        print(self.resposta)\n",
    "\n",
    "\n",
    "    def armazena_Questao_Resposta(self, novaQuestao,novaResposta):\n",
    "        self.questoes.append(novaQuestao)\n",
    "        self.resposta.append(novaResposta)"
   ]
  },
  {
   "cell_type": "code",
   "execution_count": 2,
   "id": "c60b63eb-9373-4d08-aa7d-351f8589a900",
   "metadata": {},
   "outputs": [
    {
     "name": "stderr",
     "output_type": "stream",
     "text": [
      ".F\n",
      "======================================================================\n",
      "FAIL: test_armazenaResposta (__main__.ProvaTest.test_armazenaResposta)\n",
      "----------------------------------------------------------------------\n",
      "Traceback (most recent call last):\n",
      "  File \"C:\\Users\\Pichau\\AppData\\Local\\Temp\\ipykernel_4764\\1836684256.py\", line 18, in test_armazenaResposta\n",
      "    self.assertIn(\"progamaçao,robotica e muito mais!\",self.p.resposta)\n",
      "AssertionError: 'progamaçao,robotica e muito mais!' not found in ['programaçao,roboticae muito mais!']\n",
      "\n",
      "----------------------------------------------------------------------\n",
      "Ran 2 tests in 0.001s\n",
      "\n",
      "FAILED (failures=1)\n"
     ]
    },
    {
     "data": {
      "text/plain": [
       "<unittest.main.TestProgram at 0x24c62b1f7d0>"
      ]
     },
     "execution_count": 2,
     "metadata": {},
     "output_type": "execute_result"
    }
   ],
   "source": [
    "import unittest\n",
    "from exame import Prova\n",
    "\n",
    "class ProvaTest(unittest.TestCase):\n",
    "\n",
    "    def setUp(self):\n",
    "        self.questao = \"o que aprendem os alunos da Ctrl+Play?\"\n",
    "        self.resposta = \"programaçao,roboticae muito mais!\"\n",
    "        self.p = Prova() \n",
    "        self.p.armazena_Questao_Resposta(self.questao,self.resposta)\n",
    "\n",
    "\n",
    "    def test_armazenaQuestao(self):\n",
    "        self.assertIn(\"o que aprendem os alunos da Ctrl+Play?\", self.p.questao)\n",
    "\n",
    "\n",
    "    def test_armazenaResposta(self):\n",
    "        self.assertIn(\"progamaçao,robotica e muito mais!\",self.p.resposta)\n",
    "\n",
    "\n",
    "unittest.main(argv=[\"\"],exit=False)"
   ]
  },
  {
   "cell_type": "code",
   "execution_count": 13,
   "id": "23d91e1d-1bdd-42b5-b269-d2d245171201",
   "metadata": {},
   "outputs": [
    {
     "name": "stderr",
     "output_type": "stream",
     "text": [
      ".FE\n",
      "======================================================================\n",
      "ERROR: testsoma (__main__.calculadoraTest.testsoma)\n",
      "----------------------------------------------------------------------\n",
      "Traceback (most recent call last):\n",
      "  File \"C:\\Users\\Pichau\\AppData\\Local\\Temp\\ipykernel_4764\\2316103108.py\", line 6, in testsoma\n",
      "    self.assertEqual(soma(12,2),14)\n",
      "                     ^^^^^^^^^^\n",
      "  File \"C:\\Users\\Pichau\\Documents\\heitor\\CY1\\gitHub\\ctrlplay\\calculadora2.py\", line 8, in soma\n",
      "    return a+b\n",
      "    ^^^^^^^\n",
      "NameError: name 'returna' is not defined\n",
      "\n",
      "======================================================================\n",
      "FAIL: test_armazenaResposta (__main__.ProvaTest.test_armazenaResposta)\n",
      "----------------------------------------------------------------------\n",
      "Traceback (most recent call last):\n",
      "  File \"C:\\Users\\Pichau\\AppData\\Local\\Temp\\ipykernel_4764\\1836684256.py\", line 18, in test_armazenaResposta\n",
      "    self.assertIn(\"progamaçao,robotica e muito mais!\",self.p.resposta)\n",
      "AssertionError: 'progamaçao,robotica e muito mais!' not found in ['programaçao,roboticae muito mais!']\n",
      "\n",
      "----------------------------------------------------------------------\n",
      "Ran 3 tests in 0.003s\n",
      "\n",
      "FAILED (failures=1, errors=1)\n"
     ]
    },
    {
     "data": {
      "text/plain": [
       "<unittest.main.TestProgram at 0x24c6382a0d0>"
      ]
     },
     "execution_count": 13,
     "metadata": {},
     "output_type": "execute_result"
    }
   ],
   "source": [
    "import unittest\n",
    "from calculadora2 import soma\n",
    "\n",
    "class calculadoraTest(unittest.TestCase):\n",
    "    def testsoma(self):  \n",
    "        self.assertEqual(soma(12,2),14)\n",
    "    \n",
    "\n",
    "unittest.main(argv=[\"\"], exit=False)"
   ]
  },
  {
   "cell_type": "code",
   "execution_count": null,
   "id": "35aff517-e3bd-4c96-aec9-73dba194969c",
   "metadata": {},
   "outputs": [],
   "source": []
  }
 ],
 "metadata": {
  "kernelspec": {
   "display_name": "Python 3 (ipykernel)",
   "language": "python",
   "name": "python3"
  },
  "language_info": {
   "codemirror_mode": {
    "name": "ipython",
    "version": 3
   },
   "file_extension": ".py",
   "mimetype": "text/x-python",
   "name": "python",
   "nbconvert_exporter": "python",
   "pygments_lexer": "ipython3",
   "version": "3.11.7"
  }
 },
 "nbformat": 4,
 "nbformat_minor": 5
}
