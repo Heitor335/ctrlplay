{
 "cells": [
  {
   "cell_type": "code",
   "execution_count": 13,
   "id": "9fc4957e-a4c0-4cab-bda6-c14394163428",
   "metadata": {},
   "outputs": [
    {
     "name": "stdout",
     "output_type": "stream",
     "text": [
      "True\n",
      "True\n",
      "True\n",
      "True True True\n"
     ]
    }
   ],
   "source": [
    "n1=10\n",
    "n2=50\n",
    "texto1=\"ctrl\"\n",
    "texto2=\"play\"\n",
    "\n",
    "c1 = n1 * 5 ==n2\n",
    "print(c1)\n",
    "\n",
    "c8 = texto1 < texto2\n",
    "print(c8),len(texto1),len(texto2)\n",
    "\n",
    "c3= n1 != n2\n",
    "print(c3)\n",
    "g1 = 1 < 2 < 3 \n",
    "g2 = 1 < 2 and 2 < 3\n",
    "g3 = 1 == 2 or 2 < 3 \n",
    "print (g1,g2,g3)"
   ]
  },
  {
   "cell_type": "code",
   "execution_count": null,
   "id": "ffd6e0a8-7064-4335-837c-c1bc2a4784ce",
   "metadata": {},
   "outputs": [],
   "source": []
  },
  {
   "cell_type": "code",
   "execution_count": 21,
   "id": "ad778184-ae88-4627-a926-3fc6f8347b72",
   "metadata": {},
   "outputs": [
    {
     "name": "stdout",
     "output_type": "stream",
     "text": [
      "recuperaçao\n"
     ]
    }
   ],
   "source": [
    "nota=5.5\n",
    "if nota >=6:\n",
    "    print(\"aprovado\")\n",
    "elif 4 < nota < 6:\n",
    "    print(\"recuperaçao\")\n",
    "else:\n",
    "     print(\"reprovado\")"
   ]
  },
  {
   "cell_type": "code",
   "execution_count": null,
   "id": "33319aab-baf3-4dcf-a4ff-32148c22a347",
   "metadata": {},
   "outputs": [],
   "source": []
  },
  {
   "cell_type": "code",
   "execution_count": 36,
   "id": "56dcbb09-a373-4aef-8707-b1a61d0f6b4b",
   "metadata": {},
   "outputs": [
    {
     "name": "stdin",
     "output_type": "stream",
     "text": [
      " 12\n"
     ]
    },
    {
     "name": "stdout",
     "output_type": "stream",
     "text": [
      "december\n"
     ]
    }
   ],
   "source": [
    "mes=int(input())\n",
    "calend=[0,\"January\",\"February\",\"March\",\"April\",\"May\",\"June\",\"July\",\"August\",\"September\",\"October\",\"November\",\"December\"]\n",
    "if mes==1:\n",
    "    print(calend[1])\n",
    "elif mes==2:\n",
    "    print(calend[2])\n",
    "elif mes==3:\n",
    "    print(calend[3])\n",
    "elif mes==4:\n",
    "    print(calend[4])\n",
    "elif mes==5:\n",
    "    print(calend[5])\n",
    "elif mes==6:\n",
    "    print(calend[6])\n",
    "elif mes==7:\n",
    "    print(calend[7])\n",
    "elif mes==8:\n",
    "    print(calend[8])\n",
    "elif mes==9:\n",
    "    print(calend[9])\n",
    "elif mes==10:\n",
    "    print(calend[10])\n",
    "elif mes==11:\n",
    "    print(calend[11])\n",
    "elif mes==12:\n",
    "    print(calend[12])"
   ]
  },
  {
   "cell_type": "code",
   "execution_count": 41,
   "id": "3667f1c0-8049-41ac-a0dd-515fbba4d6b5",
   "metadata": {},
   "outputs": [
    {
     "name": "stdin",
     "output_type": "stream",
     "text": [
      " 4 3\n"
     ]
    },
    {
     "name": "stdout",
     "output_type": "stream",
     "text": [
      "['4', '3']\n",
      "Total: R$ 6.00\n"
     ]
    }
   ],
   "source": [
    "lanche=input().split()\n",
    "codigo=int(lanche[0])\n",
    "preço=int(lanche[1])\n",
    "if codigo==1:\n",
    "    print(\"Total: R$ {:.2f}\".format(preço*4))\n",
    "elif codigo==2:\n",
    "    print(\"Total: R$ {:.2f}\".format(preço*4.50))\n",
    "elif codigo==3:\n",
    "    print(\"Total: R$ {:.2f}\".format(preço*5))\n",
    "elif codigo==4:\n",
    "    print(\"Total: R$ {:.2f}\".format(preço*2))\n",
    "else:\n",
    "    print(\"Total: R$ {:.2f}\".format(preço*1.50))"
   ]
  },
  {
   "cell_type": "code",
   "execution_count": null,
   "id": "4ceb9b88-c2ff-49a5-9069-d87041e95f6e",
   "metadata": {},
   "outputs": [],
   "source": []
  }
 ],
 "metadata": {
  "kernelspec": {
   "display_name": "Python 3 (ipykernel)",
   "language": "python",
   "name": "python3"
  },
  "language_info": {
   "codemirror_mode": {
    "name": "ipython",
    "version": 3
   },
   "file_extension": ".py",
   "mimetype": "text/x-python",
   "name": "python",
   "nbconvert_exporter": "python",
   "pygments_lexer": "ipython3",
   "version": "3.11.7"
  }
 },
 "nbformat": 4,
 "nbformat_minor": 5
}
