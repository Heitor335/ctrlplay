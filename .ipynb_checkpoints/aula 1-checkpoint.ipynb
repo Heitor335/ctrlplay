{
 "cells": [
  {
   "cell_type": "markdown",
   "id": "e396fb73-42d8-44c4-9d73-ad268d400e6c",
   "metadata": {},
   "source": [
    "progama da primeira aula"
   ]
  },
  {
   "cell_type": "code",
   "execution_count": 31,
   "id": "66e7e382-0d31-433d-8f17-6b6f17bbd0d9",
   "metadata": {},
   "outputs": [
    {
     "name": "stdout",
     "output_type": "stream",
     "text": [
      "a area do quadrado e igual a 20\n",
      "area do quadrado e igual a 5\n"
     ]
    }
   ],
   "source": [
    "#quadrado\n",
    "lado=5\n",
    "p_quadrado=4*lado\n",
    "print(\"a area do quadrado e igual a {}\".format(p_quadrado))\n",
    "a_quadrado*lado*lado\n",
    "print(\"area do quadrdao e igual a {}\".format(a_quadrado))\n"
   ]
  },
  {
   "cell_type": "code",
   "execution_count": 37,
   "id": "c71851f2-7b5f-497c-bd52-54273fb523f8",
   "metadata": {},
   "outputs": [
    {
     "name": "stdout",
     "output_type": "stream",
     "text": [
      "o perimetro do retangulo e igual a 30\n",
      "area do retangulo e igual a 50\n"
     ]
    }
   ],
   "source": [
    "#retangulo\n",
    "lado1=5\n",
    "lado2=10\n",
    "p_retangulo=2*lado1+2*lado2\n",
    "print(\"o perimetro do retangulo e igual a {}\".format(p_retangulo))\n",
    "a_retangulo=lado1*lado2\n",
    "print(\"area do retangulo e igual a {}\".format(a_retangulo))"
   ]
  },
  {
   "cell_type": "code",
   "execution_count": 10,
   "id": "b85a4408-2a33-4de2-bb38-a5331b62f1f3",
   "metadata": {},
   "outputs": [
    {
     "name": "stdin",
     "output_type": "stream",
     "text": [
      " 5\n"
     ]
    },
    {
     "name": "stdout",
     "output_type": "stream",
     "text": [
      "A=78.5397\n"
     ]
    }
   ],
   "source": [
    "raio=float(input())\n",
    "area=3.14159*raio**2\n",
    "print(\"A={:.4f}\".format(area))"
   ]
  },
  {
   "cell_type": "code",
   "execution_count": null,
   "id": "4e64c4f0-7c70-4b96-9c8b-efb3f0293d97",
   "metadata": {},
   "outputs": [],
   "source": []
  }
 ],
 "metadata": {
  "kernelspec": {
   "display_name": "Python 3 (ipykernel)",
   "language": "python",
   "name": "python3"
  },
  "language_info": {
   "codemirror_mode": {
    "name": "ipython",
    "version": 3
   },
   "file_extension": ".py",
   "mimetype": "text/x-python",
   "name": "python",
   "nbconvert_exporter": "python",
   "pygments_lexer": "ipython3",
   "version": "3.11.7"
  }
 },
 "nbformat": 4,
 "nbformat_minor": 5
}
