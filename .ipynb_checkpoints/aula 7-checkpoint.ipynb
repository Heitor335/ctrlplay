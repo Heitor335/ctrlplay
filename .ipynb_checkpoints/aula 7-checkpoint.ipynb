{
 "cells": [
  {
   "cell_type": "code",
   "execution_count": 7,
   "id": "ca57ef02-1cc8-481e-bd83-332697586f27",
   "metadata": {},
   "outputs": [
    {
     "name": "stdout",
     "output_type": "stream",
     "text": [
      "bem vindo (a), renan de souza a  ctrl+play!\n"
     ]
    }
   ],
   "source": [
    "def boas_vindas(nome):\n",
    "    print(\"bem vindo (a), {} a  ctrl+play!\".format(nome))\n",
    "\n",
    "\n",
    "boas_vindas(\"renan de souza\")"
   ]
  },
  {
   "cell_type": "code",
   "execution_count": 12,
   "id": "4ff37b63-85aa-4d61-b206-553f3779055f",
   "metadata": {},
   "outputs": [
    {
     "name": "stdout",
     "output_type": "stream",
     "text": [
      "meu filme favorito e STAR WARS\n",
      "meu filme favorito e homem-aranha\n",
      "meu filme favorito e the flash\n"
     ]
    }
   ],
   "source": [
    "def filme_favorito (titulo):\n",
    "    print(\"meu filme favorito e {}\".format(titulo))\n",
    "    \n",
    "filme_favorito(\"STAR WARS\")\n",
    "filme_favorito(\"homem-aranha\")\n",
    "filme_favorito(\"the flash\")"
   ]
  },
  {
   "cell_type": "code",
   "execution_count": 22,
   "id": "7ff423b7-9926-4c52-8dbd-88e0cb00e305",
   "metadata": {},
   "outputs": [
    {
     "name": "stdout",
     "output_type": "stream",
     "text": [
      "100.0\n"
     ]
    }
   ],
   "source": [
    "def velocidade(tempo,distancia=1000):\n",
    "    print(distancia/tempo)\n",
    "  \n",
    "\n",
    "\n",
    "velocidade(10)"
   ]
  },
  {
   "cell_type": "code",
   "execution_count": 2,
   "id": "d75a7d9e-b22d-4543-9de7-7addeaa4e5e3",
   "metadata": {},
   "outputs": [
    {
     "name": "stdout",
     "output_type": "stream",
     "text": [
      "o maoir valor entre 5 e 1 e 5\n"
     ]
    }
   ],
   "source": [
    "def maior(x,y):\n",
    "    if x >= y:\n",
    "        return x\n",
    "    else:\n",
    "        return y\n",
    "\n",
    "\n",
    "a =  5\n",
    "b =  1\n",
    "print(\"o maoir valor entre {} e {} e {}\".format(a, b, maior(a,b)))"
   ]
  },
  {
   "cell_type": "code",
   "execution_count": 5,
   "id": "8b5167e2-2ba1-49b5-9ac5-9e71ba864e1f",
   "metadata": {},
   "outputs": [
    {
     "name": "stdout",
     "output_type": "stream",
     "text": [
      "\n",
      " preparando um acai grande com os seguintes ingredientes: \n",
      "- banana\n",
      "- leite em po\n",
      "- leite condensado\n",
      "- morango\n"
     ]
    }
   ],
   "source": [
    "def prepara_acai(*ingredientes,tamanho=\"medio\"):\n",
    "    print(\"\\n preparando um acai {} com os seguintes ingredientes: \".format(tamanho))\n",
    "    for ingrediente in ingredientes:\n",
    "        print (\"-\", ingrediente)\n",
    "\n",
    "\n",
    "\n",
    "prepara_acai(\"banana\",\"leite em po\", \"leite condensado\",\"morango\", tamanho=\"grande\")"
   ]
  },
  {
   "cell_type": "code",
   "execution_count": 9,
   "id": "f26cda7f-1817-4cc2-a31d-98b6e3b8ee02",
   "metadata": {},
   "outputs": [
    {
     "name": "stdout",
     "output_type": "stream",
     "text": [
      "maior:  6\n",
      "menor 1\n"
     ]
    }
   ],
   "source": [
    " def menor (lista):\n",
    "     menorvalor = lista [0]\n",
    "     for x in lista:\n",
    "         if x < menorvalor:\n",
    "            menorvalor = x\n",
    "     return menorvalor\n",
    "\n",
    "\n",
    "def maior(lista):\n",
    "    maiorvalor = lista[0]\n",
    "    for y in lista:\n",
    "        if y > maiorvalor:\n",
    "            maiorvalor = y\n",
    "    return maiorvalor\n",
    "\n",
    "def maioremenor(lista):\n",
    "    print(\"maior: \",maior(lista))\n",
    "    print(\"menor\", menor(lista))\n",
    "\n",
    "\n",
    "maioremenor ([4,5,6,2,1,3])"
   ]
  },
  {
   "cell_type": "code",
   "execution_count": null,
   "id": "81647f8d-f102-4569-b4f0-8ccb96220d71",
   "metadata": {},
   "outputs": [],
   "source": [
    "def dobralencol(lencol,gaveta):"
   ]
  }
 ],
 "metadata": {
  "kernelspec": {
   "display_name": "Python 3 (ipykernel)",
   "language": "python",
   "name": "python3"
  },
  "language_info": {
   "codemirror_mode": {
    "name": "ipython",
    "version": 3
   },
   "file_extension": ".py",
   "mimetype": "text/x-python",
   "name": "python",
   "nbconvert_exporter": "python",
   "pygments_lexer": "ipython3",
   "version": "3.11.7"
  }
 },
 "nbformat": 4,
 "nbformat_minor": 5
}
