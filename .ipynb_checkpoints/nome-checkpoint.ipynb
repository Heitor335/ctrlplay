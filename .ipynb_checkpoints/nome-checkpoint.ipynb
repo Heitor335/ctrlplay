{
 "cells": [
  {
   "cell_type": "code",
   "execution_count": null,
   "id": "58a85f8b-edfb-4517-b8bf-5a0682f98b88",
   "metadata": {},
   "outputs": [],
   "source": [
    "def sobrenomeNaOrdem(nome,sobrenome1,sobrenome2):\n",
    "    if len(sobrenome2)> len(sobrenome1):\n",
    "        return \"{} {} {}\".format(nome,sobrenome1,sobrenome2)\n",
    "    else:\n",
    "        return\"{} {} {}\".format(nome,sobrenome2,sobrenome1)"
   ]
  }
 ],
 "metadata": {
  "kernelspec": {
   "display_name": "Python 3 (ipykernel)",
   "language": "python",
   "name": "python3"
  },
  "language_info": {
   "codemirror_mode": {
    "name": "ipython",
    "version": 3
   },
   "file_extension": ".py",
   "mimetype": "text/x-python",
   "name": "python",
   "nbconvert_exporter": "python",
   "pygments_lexer": "ipython3",
   "version": "3.11.7"
  }
 },
 "nbformat": 4,
 "nbformat_minor": 5
}
