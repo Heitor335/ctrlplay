{
 "cells": [
  {
   "cell_type": "code",
   "execution_count": 2,
   "id": "f422660e-cada-4ab9-8a5e-95bad9b06405",
   "metadata": {},
   "outputs": [
    {
     "name": "stdout",
     "output_type": "stream",
     "text": [
      "jose dias saraiva\n",
      "jose silva madureira\n"
     ]
    }
   ],
   "source": [
    "def sobrenomeNaOrdem(nome,sobrenome1,sobrenome2):\n",
    "    if len(sobrenome2)> len(sobrenome1):\n",
    "        return \"{} {} {}\".format(nome,sobrenome1,sobrenome2)\n",
    "    else:\n",
    "        return\"{} {} {}\".format(nome,sobrenome2,sobrenome1)\n",
    "\n",
    "#print(sobrenomeNaOrdem(\"jose\",\"dias\",\"saraiva\")) \n",
    "#print(sobrenomeNaOrdem(\"jose\",\"madureira\",\"silva\"))\n"
   ]
  },
  {
   "cell_type": "code",
   "execution_count": null,
   "id": "8cfaa0f4-fc1a-4769-8aad-e26446bc4c6d",
   "metadata": {},
   "outputs": [],
   "source": []
  }
 ],
 "metadata": {
  "kernelspec": {
   "display_name": "Python 3 (ipykernel)",
   "language": "python",
   "name": "python3"
  },
  "language_info": {
   "codemirror_mode": {
    "name": "ipython",
    "version": 3
   },
   "file_extension": ".py",
   "mimetype": "text/x-python",
   "name": "python",
   "nbconvert_exporter": "python",
   "pygments_lexer": "ipython3",
   "version": "3.11.7"
  }
 },
 "nbformat": 4,
 "nbformat_minor": 5
}
