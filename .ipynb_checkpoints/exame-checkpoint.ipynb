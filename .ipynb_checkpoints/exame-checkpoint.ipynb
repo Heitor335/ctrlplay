{
 "cells": [
  {
   "cell_type": "code",
   "execution_count": null,
   "id": "303aec88-b2b8-41da-9de4-4efc241b5766",
   "metadata": {},
   "outputs": [],
   "source": [
    "class Prova():\n",
    "\n",
    "    def __init__(self):\n",
    "        self.questao = []\n",
    "        self.resposta = []\n",
    "        \n",
    "    def mostra_Questoes(self):\n",
    "        print(self.questao)\n",
    "\n",
    "    def mostra_Respostas(self):\n",
    "        print(self.resposta)\n",
    "\n",
    "\n",
    "    def armazena_Questao_Resposta(self, novaQuestao,novaResposta):\n",
    "        self.questao.append(novaQuestao)\n",
    "        self.resposta.append(novaResposta)"
   ]
  }
 ],
 "metadata": {
  "kernelspec": {
   "display_name": "Python 3 (ipykernel)",
   "language": "python",
   "name": "python3"
  },
  "language_info": {
   "codemirror_mode": {
    "name": "ipython",
    "version": 3
   },
   "file_extension": ".py",
   "mimetype": "text/x-python",
   "name": "python",
   "nbconvert_exporter": "python",
   "pygments_lexer": "ipython3",
   "version": "3.11.7"
  }
 },
 "nbformat": 4,
 "nbformat_minor": 5
}
