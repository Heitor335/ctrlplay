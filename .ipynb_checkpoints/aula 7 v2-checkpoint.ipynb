{
 "cells": [
  {
   "cell_type": "code",
   "execution_count": 7,
   "id": "5eb8730f-9e5b-4074-8997-13981b226f5f",
   "metadata": {},
   "outputs": [
    {
     "name": "stdout",
     "output_type": "stream",
     "text": [
      "o maoir valor entre 5.0 e 1.0 e 5.0\n"
     ]
    }
   ],
   "source": [
    "def maior(x,y):\n",
    "    if x >= y:\n",
    "        return x\n",
    "    else:\n",
    "        return y\n",
    "\n",
    "\n",
    "a = float (5)\n",
    "b = float (1)\n",
    "print(\"o maoir valor entre {} e {} e {}\".format(a, b, maior(a,b)))"
   ]
  },
  {
   "cell_type": "code",
   "execution_count": null,
   "id": "53815932-120b-4a19-8502-1b61655e3290",
   "metadata": {},
   "outputs": [],
   "source": []
  }
 ],
 "metadata": {
  "kernelspec": {
   "display_name": "Python 3 (ipykernel)",
   "language": "python",
   "name": "python3"
  },
  "language_info": {
   "codemirror_mode": {
    "name": "ipython",
    "version": 3
   },
   "file_extension": ".py",
   "mimetype": "text/x-python",
   "name": "python",
   "nbconvert_exporter": "python",
   "pygments_lexer": "ipython3",
   "version": "3.11.7"
  }
 },
 "nbformat": 4,
 "nbformat_minor": 5
}
