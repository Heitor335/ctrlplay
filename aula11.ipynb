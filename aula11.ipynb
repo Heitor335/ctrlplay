{
 "cells": [
  {
   "cell_type": "code",
   "execution_count": 3,
   "id": "22f55a88-7813-499e-a273-918e4895beb1",
   "metadata": {},
   "outputs": [
    {
     "name": "stdout",
     "output_type": "stream",
     "text": [
      "ola mundo\n"
     ]
    }
   ],
   "source": [
    "print(\"ola mundo\")\n",
    "#linha adicionada no jupyter\n",
    "#linha 2 adicionada no jupyter 11:17\n",
    "#linha 3 adicionada no vscode 11:19\n",
    "#linha 4 adicionada na main 08/08/2024 14:10\n",
    "#linha 1 task 08/08/2024 14:28\n",
    "#linha 2 task 08/08/2024 14:39\n",
    "\n"
   ]
  }
 ],
 "metadata": {
  "kernelspec": {
   "display_name": "Python 3 (ipykernel)",
   "language": "python",
   "name": "python3"
  },
  "language_info": {
   "codemirror_mode": {
    "name": "ipython",
    "version": 3
   },
   "file_extension": ".py",
   "mimetype": "text/x-python",
   "name": "python",
   "nbconvert_exporter": "python",
   "pygments_lexer": "ipython3",
   "version": "3.11.7"
  }
 },
 "nbformat": 4,
 "nbformat_minor": 5
}
