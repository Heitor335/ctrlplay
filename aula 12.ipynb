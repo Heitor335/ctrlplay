{
 "cells": [
  {
   "cell_type": "code",
   "execution_count": 1,
   "id": "fe37e14a-a1a1-45d3-a034-3e1b3ddca73d",
   "metadata": {},
   "outputs": [
    {
     "ename": "SyntaxError",
     "evalue": "invalid character '´' (U+00B4) (1915834504.py, line 3)",
     "output_type": "error",
     "traceback": [
      "\u001b[1;36m  Cell \u001b[1;32mIn[1], line 3\u001b[1;36m\u001b[0m\n\u001b[1;33m    bairro=´\"Capao Raso\"\u001b[0m\n\u001b[1;37m           ^\u001b[0m\n\u001b[1;31mSyntaxError\u001b[0m\u001b[1;31m:\u001b[0m invalid character '´' (U+00B4)\n"
     ]
    }
   ],
   "source": [
    "class Casa():\n",
    "    rua=\"avenida Wiston Churchill\"\n",
    "    bairro=´\"Capao Raso\"\n",
    "    cep= \"81130-000\"\n",
    "\n",
    "def enderecoCompleto(self):\n",
    "    return \"endereço completo:{},{} - cep: {}\".format(self.rua, self.bairro, self.cep)"
   ]
  },
  {
   "cell_type": "code",
   "execution_count": null,
   "id": "4082fa93-75fd-449a-ac5d-15cf86eb2a60",
   "metadata": {},
   "outputs": [],
   "source": []
  }
 ],
 "metadata": {
  "kernelspec": {
   "display_name": "Python 3 (ipykernel)",
   "language": "python",
   "name": "python3"
  },
  "language_info": {
   "codemirror_mode": {
    "name": "ipython",
    "version": 3
   },
   "file_extension": ".py",
   "mimetype": "text/x-python",
   "name": "python",
   "nbconvert_exporter": "python",
   "pygments_lexer": "ipython3",
   "version": "3.11.7"
  }
 },
 "nbformat": 4,
 "nbformat_minor": 5
}
