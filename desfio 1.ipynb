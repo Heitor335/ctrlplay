{
 "cells": [
  {
   "cell_type": "code",
   "execution_count": 3,
   "id": "5a8411e0-6d5d-40df-a1b4-6e487b95d85d",
   "metadata": {},
   "outputs": [
    {
     "data": {
      "text/plain": [
       "2"
      ]
     },
     "execution_count": 3,
     "metadata": {},
     "output_type": "execute_result"
    }
   ],
   "source": [
    "#aula 1 desafio\n",
    "1+1"
   ]
  },
  {
   "cell_type": "code",
   "execution_count": 2,
   "id": "5a047655-17a2-42d5-9f70-ebf9d7da854f",
   "metadata": {},
   "outputs": [
    {
     "data": {
      "text/plain": [
       "2"
      ]
     },
     "execution_count": 2,
     "metadata": {},
     "output_type": "execute_result"
    }
   ],
   "source": [
    "1+1"
   ]
  },
  {
   "cell_type": "code",
   "execution_count": 14,
   "id": "68d18c0a-c24a-4704-8589-f44b5197f372",
   "metadata": {},
   "outputs": [
    {
     "name": "stdout",
     "output_type": "stream",
     "text": [
      "o perimetro do triangulo e igual 12\n",
      "a area do triangulo e igaul a 6.0\n"
     ]
    }
   ],
   "source": [
    "#triangulo\n",
    "x=3\n",
    "y=4\n",
    "z=5\n",
    "p_tri=x+y+z\n",
    "print(\"o perimetro do triangulo e igual {}\".format(p_tri))\n",
    "a_tri=x*y/2\n",
    "print (\"a area do triangulo e igaul a {}\".format(a_tri))"
   ]
  },
  {
   "cell_type": "code",
   "execution_count": 15,
   "id": "ac92f88d-a8c6-49c1-829b-635cb012fd60",
   "metadata": {},
   "outputs": [],
   "source": [
    "n=5"
   ]
  },
  {
   "cell_type": "code",
   "execution_count": 21,
   "id": "bdf368a2-ecdd-4759-8362-656a2941724a",
   "metadata": {},
   "outputs": [
    {
     "name": "stdout",
     "output_type": "stream",
     "text": [
      "o antessesor do 5 e igual a 4\n",
      "o sucessor do 5 e igual a 6\n"
     ]
    }
   ],
   "source": [
    "n=5\n",
    "ant=n-1\n",
    "suc=n+1\n",
    "print(\"o antessesor do {} e igual a {}\".format(n,ant))\n",
    "print(\"o sucessor do {} e igual a {}\" .format(n, suc))\n"
   ]
  },
  {
   "cell_type": "code",
   "execution_count": 30,
   "id": "6015f3c1-02d1-4253-9139-96f37acff409",
   "metadata": {},
   "outputs": [
    {
     "name": "stdout",
     "output_type": "stream",
     "text": [
      "opa\n",
      "opa, como vc esta?\n",
      "estou bem e vc?\n",
      "aqui tem  a palavra  opa\n"
     ]
    }
   ],
   "source": [
    "#uma palavra\n",
    "string1= \"opa\"\n",
    "string2= \"opa, como vc esta?\"\n",
    "string3= \"estou bem e vc?\"\n",
    "print(string1)\n",
    "print(string2)\n",
    "print(string3)\n",
    "print(\"aqui tem  a palavra  {}\".format(string1))"
   ]
  },
  {
   "cell_type": "code",
   "execution_count": 31,
   "id": "be6415cc-d559-4565-b9a9-8845b9b83918",
   "metadata": {},
   "outputs": [
    {
     "name": "stdout",
     "output_type": "stream",
     "text": [
      "teste\n",
      "teste\n"
     ]
    },
    {
     "data": {
      "text/plain": [
       "'teste'"
      ]
     },
     "execution_count": 31,
     "metadata": {},
     "output_type": "execute_result"
    }
   ],
   "source": [
    "# 3 formas de iprimir uma string\n",
    "string4=\"teste\"\n",
    "print(string4)\n",
    "print(\"teste\")\n",
    "\"teste\""
   ]
  },
  {
   "cell_type": "code",
   "execution_count": 38,
   "id": "2f897838-9e17-4abd-aeb2-cea655a2b5be",
   "metadata": {},
   "outputs": [
    {
     "name": "stdout",
     "output_type": "stream",
     "text": [
      "boston\tversus\tcharlotte\n"
     ]
    }
   ],
   "source": [
    "print(\"boston\\tversus\\tcharlotte\")"
   ]
  },
  {
   "cell_type": "code",
   "execution_count": 47,
   "id": "2649c21b-f2c8-4fad-aab7-3f678157c248",
   "metadata": {},
   "outputs": [
    {
     "name": "stdout",
     "output_type": "stream",
     "text": [
      "boston\n"
     ]
    }
   ],
   "source": [
    "time=\"boston\"\n",
    "print(time[:])"
   ]
  },
  {
   "cell_type": "code",
   "execution_count": 53,
   "id": "7419d728-0824-44b6-ba48-0129f7341bc5",
   "metadata": {},
   "outputs": [
    {
     "name": "stdout",
     "output_type": "stream",
     "text": [
      "4\n"
     ]
    }
   ],
   "source": [
    "email=\"novinski.heitor@gmail.com\"\n",
    "print(email.count(\"i\"))"
   ]
  },
  {
   "cell_type": "code",
   "execution_count": 67,
   "id": "2ee5dcc3-97d4-44bf-abbd-cba377792026",
   "metadata": {},
   "outputs": [
    {
     "name": "stdout",
     "output_type": "stream",
     "text": [
      "oi\n",
      "oioioioioioioi\n"
     ]
    }
   ],
   "source": [
    "nome=\"o\"\n",
    "sobrenome = \"i\"\n",
    "print(nome+sobrenome)\n",
    "print(\"oi\"*7)"
   ]
  },
  {
   "cell_type": "code",
   "execution_count": 73,
   "id": "61c4001f-2ac8-4498-854b-03d52bdfe4e1",
   "metadata": {},
   "outputs": [
    {
     "name": "stdout",
     "output_type": "stream",
     "text": [
      "             HEITOR NOVINSKI            \n",
      "             heitor novinski            \n",
      "['heitor', 'novinski']\n",
      "heitor novinski\n"
     ]
    }
   ],
   "source": [
    "frase=\"             heitor novinski            \"\n",
    "print(frase.upper())\n",
    "print(frase.lower())\n",
    "print(frase.split())\n",
    "print(frase.strip())"
   ]
  },
  {
   "cell_type": "code",
   "execution_count": 94,
   "id": "dbbe6d70-3420-4568-8018-1ffc45813179",
   "metadata": {},
   "outputs": [
    {
     "name": "stdin",
     "output_type": "stream",
     "text": [
      "qual seu nome? heitor\n"
     ]
    },
    {
     "name": "stdout",
     "output_type": "stream",
     "text": [
      "prazer em te conhecer heitor!\n",
      "prazer em te conhecer,heitor              !\n",
      "prazer em te conhecer,heitor              !\n",
      "prazer em te conhecer,              heitor!\n",
      "prazer em te conhecer,       heitor       !\n",
      "prazer em te conhecer,=======heitor=======!\n"
     ]
    }
   ],
   "source": [
    "nome=input(\"qual seu nome?\")\n",
    "print(\"prazer em te conhecer {}!\".format(nome))\n",
    "print(\"prazer em te conhecer,{:20}!\".format(nome))\n",
    "print(\"prazer em te conhecer,{:<20}!\".format(nome))\n",
    "print(\"prazer em te conhecer,{:>20}!\".format(nome))\n",
    "print(\"prazer em te conhecer,{:^20}!\".format(nome))\n",
    "print(\"prazer em te conhecer,{:=^20}!\".format(nome))\n",
    "\n",
    "\n",
    "\n",
    "\n"
   ]
  },
  {
   "cell_type": "code",
   "execution_count": null,
   "id": "61e81fe9-a41f-4f06-b7b3-73605b53d7e6",
   "metadata": {},
   "outputs": [],
   "source": []
  }
 ],
 "metadata": {
  "kernelspec": {
   "display_name": "Python 3 (ipykernel)",
   "language": "python",
   "name": "python3"
  },
  "language_info": {
   "codemirror_mode": {
    "name": "ipython",
    "version": 3
   },
   "file_extension": ".py",
   "mimetype": "text/x-python",
   "name": "python",
   "nbconvert_exporter": "python",
   "pygments_lexer": "ipython3",
   "version": "3.11.7"
  }
 },
 "nbformat": 4,
 "nbformat_minor": 5
}
