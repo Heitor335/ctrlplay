{
 "cells": [
  {
   "cell_type": "code",
   "execution_count": 17,
   "id": "9e4886aa-586b-4fa6-8081-6b1289318169",
   "metadata": {},
   "outputs": [
    {
     "name": "stdout",
     "output_type": "stream",
     "text": [
      "100\n",
      "35\n",
      "25\n",
      "100\n"
     ]
    },
    {
     "name": "stdin",
     "output_type": "stream",
     "text": [
      "digite a senha 2345\n"
     ]
    },
    {
     "name": "stdout",
     "output_type": "stream",
     "text": [
      "senha invalida\n"
     ]
    },
    {
     "name": "stdin",
     "output_type": "stream",
     "text": [
      "digitenovamente 1234\n"
     ]
    },
    {
     "name": "stdout",
     "output_type": "stream",
     "text": [
      "40\n"
     ]
    }
   ],
   "source": [
    "class jogador():\n",
    "    vida= 100 \n",
    "    __ataque = 35\n",
    "    __defesa = 25\n",
    "\n",
    "    def __init__(self):\n",
    "        print(self.vida)\n",
    "        print(self.__ataque)\n",
    "        print(self.__defesa)\n",
    "    def setAtaque(self,a):\n",
    "        self.__ataque=a\n",
    "    def getAtaque(self):\n",
    "        return self.__ataque\n",
    "\n",
    "jogador = jogador()\n",
    "print(jogador.vida)\n",
    "semha=\"1234\"\n",
    "senha=input (\"digite a senha\")\n",
    "while senha!=\"1234\":\n",
    "    print(\"senha invalida\")\n",
    "    senha=input(\"digitenovamente\")\n",
    "jogador.setAtaque(40)\n",
    "print(jogador.getAtaque())"
   ]
  },
  {
   "cell_type": "code",
   "execution_count": 26,
   "id": "6075a5b7-f4fa-41e2-bb77-411afecd9d3c",
   "metadata": {},
   "outputs": [
    {
     "name": "stdout",
     "output_type": "stream",
     "text": [
      "carro 1 ton corre\n",
      "aviao 50 ton voa\n",
      "navio 30 ton navega\n"
     ]
    }
   ],
   "source": [
    "class MeioTransporte():\n",
    "\n",
    "    def __init__(self,tipo,peso):\n",
    "        self.tipo = tipo\n",
    "        self.peso = peso\n",
    "\n",
    "    def mover (self):\n",
    "        pass\n",
    "\n",
    "class rodoviario(MeioTransporte):\n",
    "\n",
    "    def mover(self):\n",
    "        return \"corre\"\n",
    "\n",
    "class aereo(MeioTransporte):\n",
    "\n",
    "    def mover(self):\n",
    "        return \"voa\"\n",
    "\n",
    "class maritimo(MeioTransporte):\n",
    "\n",
    "    def mover(self):\n",
    "        return \"navega\"\n",
    "\n",
    "c = rodoviario(\"carro\",\"1 ton\")\n",
    "print(c.tipo,c.peso, c.mover())\n",
    "\n",
    "a = aereo (\"aviao\",\"50 ton\")\n",
    "print(a.tipo, a.peso, a.mover())\n",
    "\n",
    "b = maritimo(\"navio\",\"30 ton\")\n",
    "print(b.tipo, b.peso, b.mover())\n",
    "\n"
   ]
  },
  {
   "cell_type": "code",
   "execution_count": 42,
   "id": "f4deee16-deb2-48f4-ae5d-59a81cf9f218",
   "metadata": {},
   "outputs": [
    {
     "name": "stdin",
     "output_type": "stream",
     "text": [
      "qual valor do pix 400\n"
     ]
    },
    {
     "name": "stdout",
     "output_type": "stream",
     "text": [
      "saldo final=600.0\n"
     ]
    }
   ],
   "source": [
    "class Banco():\n",
    "    \n",
    "    def __init__(self,nome,saldo_inicial):\n",
    "        self.nome = nome\n",
    "        self.saldo = saldo_inicial\n",
    "\n",
    "    def enviarPix(self):\n",
    "        pix_valor= float(input(\"qual valor do pix\"))\n",
    "        self.saldo=self.saldo-pix_valor\n",
    "\n",
    "\n",
    "    def getSaldo(self):\n",
    "        return self.saldo\n",
    "\n",
    "\n",
    "\n",
    "\n",
    "\n",
    "\n",
    "\n",
    "\n",
    "\n",
    "\n",
    "\n",
    "\n",
    "c6= Banco(\"jose\",1000)\n",
    "c6.enviarPix()\n",
    "print(\"saldo final={}\".format(c6.getSaldo()))"
   ]
  },
  {
   "cell_type": "code",
   "execution_count": 3,
   "id": "16d4c0e7-aa2a-474f-81e9-02e633ecfc81",
   "metadata": {},
   "outputs": [
    {
     "name": "stdin",
     "output_type": "stream",
     "text": [
      " [vertebrado ou invertebrado]:  invertebrado\n",
      "[ave, mamifero, inseto, anelideo]:  anelidio\n",
      "[carnivoro, onivoro hematofogo, herbivoro]:  onivoro\n"
     ]
    },
    {
     "name": "stdout",
     "output_type": "stream",
     "text": [
      "minhoca\n"
     ]
    }
   ],
   "source": [
    "# Desafio Animal Beecrowd 1049 Tarefa\n",
    "\n",
    "# Filo: vertebrado ou invertebrado\n",
    "# Classificacao: ave, mamifero, inseto, anelideo\n",
    "# Ordem: carnivoro, onivoro hematofogo, herbivoro\n",
    "\n",
    "class Animal():\n",
    "    \n",
    "    def __init__(self, filo, classificacao, ordem):\n",
    "        self.filo = filo\n",
    "        self.classificacao = classificacao\n",
    "        self.ordem = ordem\n",
    "    \n",
    "    def conclusao(self):\n",
    "        pass\n",
    "                    \n",
    "class Vertebrado(Animal): # Herança\n",
    "    \n",
    "    def __init__(self, filo, classificacao, ordem):\n",
    "        super().__init__(filo, classificacao, ordem)\n",
    "        \n",
    "    def conclusao(self):\n",
    "        if self.classificacao == 'ave':\n",
    "            if self.ordem == 'carnivoro':\n",
    "                print('aguia')\n",
    "            if self.ordem == 'onivoro':\n",
    "                print('pomba')\n",
    "\n",
    "        if self.classificacao == 'mamifero':\n",
    "            if self.ordem == 'onivoro':\n",
    "                print('homem')\n",
    "            if self.ordem == 'herbivoro':\n",
    "                print('vaca')\n",
    "        \n",
    "class Invertebrado(Animal):\n",
    "    \n",
    "    def __init__(self,filo,clasificacao,orden):\n",
    "        super().__init__(filo,classificacao,ordem)\n",
    "\n",
    "\n",
    "    def conclusao(self):\n",
    "        if self.classificacao == 'inseto':\n",
    "            if self.ordem == 'hematofago':\n",
    "                print('pulga')\n",
    "            if self.ordem == 'herbivoiro':\n",
    "                print('lagarta')\n",
    "\n",
    "        if self.classificacao == 'anelidio':\n",
    "            if self.ordem =='hematofago':\n",
    "                print('sanguesugga')\n",
    "            if self.ordem == 'onivoro':\n",
    "                print('minhoca')\n",
    "        \n",
    "\n",
    "\n",
    "filo = input(' [vertebrado ou invertebrado]: ')\n",
    "classificacao = input('[ave, mamifero, inseto, anelideo]: ')\n",
    "ordem = input('[carnivoro, onivoro hematofogo, herbivoro]: ')\n",
    "\n",
    "animal1 = Animal(filo, classificacao, ordem)\n",
    "if filo == 'vertebrado':\n",
    "    animal1 = Vertebrado(filo, classificacao, ordem)\n",
    "    animal1.conclusao()\n",
    "else:\n",
    "    animal1 = Invertebrado(filo, classificacao, ordem)\n",
    "    animal1.conclusao()\n",
    "    "
   ]
  },
  {
   "cell_type": "code",
   "execution_count": null,
   "id": "15565fcd-4fed-427d-971d-3d49561a1d42",
   "metadata": {},
   "outputs": [],
   "source": []
  }
 ],
 "metadata": {
  "kernelspec": {
   "display_name": "Python 3 (ipykernel)",
   "language": "python",
   "name": "python3"
  },
  "language_info": {
   "codemirror_mode": {
    "name": "ipython",
    "version": 3
   },
   "file_extension": ".py",
   "mimetype": "text/x-python",
   "name": "python",
   "nbconvert_exporter": "python",
   "pygments_lexer": "ipython3",
   "version": "3.11.7"
  }
 },
 "nbformat": 4,
 "nbformat_minor": 5
}
