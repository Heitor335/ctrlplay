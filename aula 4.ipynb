{
 "cells": [
  {
   "cell_type": "code",
   "execution_count": 9,
   "id": "4cb826da-667e-4a16-a4cc-f1bf8318c2f6",
   "metadata": {},
   "outputs": [
    {
     "name": "stdin",
     "output_type": "stream",
     "text": [
      "digite um numero para calcular sua tabuada 2\n"
     ]
    },
    {
     "name": "stdout",
     "output_type": "stream",
     "text": [
      "[2, 4, 6, 8, 10, 12, 14, 16, 18, 20]\n"
     ]
    }
   ],
   "source": [
    "num=int(input(\"digite um numero para calcular sua tabuada\"))\n",
    "lista=[]\n",
    "lista.append(num*1)\n",
    "lista.append(num*2)\n",
    "lista.append(num*3)\n",
    "lista.append(num*4)\n",
    "lista.append(num*5)\n",
    "lista.append(num*6)\n",
    "lista.append(num*7)\n",
    "lista.append(num*8)\n",
    "lista.append(num*9)\n",
    "lista.append(num*10)\n",
    "print(lista)"
   ]
  },
  {
   "cell_type": "code",
   "execution_count": 24,
   "id": "61e01c2d-9e55-42d4-95a2-b8fec45cbaef",
   "metadata": {},
   "outputs": [
    {
     "name": "stdin",
     "output_type": "stream",
     "text": [
      " 2\n"
     ]
    },
    {
     "name": "stdout",
     "output_type": "stream",
     "text": [
      "N[0] = 2\n",
      "N[1] = 4\n",
      "N[2] = 8\n",
      "N[3] = 16\n",
      "N[4] = 32\n",
      "N[5] = 64\n",
      "N[6] = 128\n",
      "N[7] = 256\n",
      "N[8] = 512\n",
      "N[9] = 1024\n"
     ]
    }
   ],
   "source": [
    "n =int(input())\n",
    "lista=[n,n*2,n*2**2,n*2**3,n*2**4,n*2**5,n*2**6,n*2**7,n*2**8,n*2**9]\n",
    "print(\"N[0] = {}\".format(lista[0]))\n",
    "print(\"N[1] = {}\".format(lista[1]))\n",
    "print(\"N[2] = {}\".format(lista[2]))\n",
    "print(\"N[3] = {}\".format(lista[3]))\n",
    "print(\"N[4] = {}\".format(lista[4]))\n",
    "print(\"N[5] = {}\".format(lista[5]))\n",
    "print(\"N[6] = {}\".format(lista[6]))\n",
    "print(\"N[7] = {}\".format(lista[7]))\n",
    "print(\"N[8] = {}\".format(lista[8]))\n",
    "print(\"N[9] = {}\".format(lista[9]))"
   ]
  },
  {
   "cell_type": "code",
   "execution_count": 39,
   "id": "bf7aa916-9c0b-43ca-b83f-c865655f678f",
   "metadata": {},
   "outputs": [
    {
     "name": "stdin",
     "output_type": "stream",
     "text": [
      " 1\n",
      " 2\n",
      " 3\n",
      " 4\n",
      " 5\n",
      " 6\n",
      " 7\n",
      " 8\n",
      " 9\n",
      " 10\n",
      " 11\n",
      " 12\n",
      " 13\n",
      " 14\n",
      " 15\n",
      " 16\n",
      " 17\n",
      " 18\n",
      " 19\n",
      " 20\n"
     ]
    },
    {
     "name": "stdout",
     "output_type": "stream",
     "text": [
      "N[0] = 20\n",
      "N[1] = 19\n",
      "N[2] = 18\n",
      "N[3] = 17\n",
      "N[4] = 16\n",
      "N[5] = 15\n",
      "N[6] = 14\n",
      "N[7] = 13\n",
      "N[8] = 12\n",
      "N[9] = 11\n",
      "N[10] = 10\n",
      "N[11] = 9\n",
      "N[12] = 8\n",
      "N[13] = 7\n",
      "N[14] = 6\n",
      "N[15] = 5\n",
      "N[16] = 4\n",
      "N[17] = 3\n",
      "N[18] = 2\n",
      "N[19] = 1\n"
     ]
    }
   ],
   "source": [
    "n1=int(input())\n",
    "n2=int(input())\n",
    "n3=int(input())\n",
    "n4=int(input())\n",
    "n5=int(input())\n",
    "n6=int(input())\n",
    "n7=int(input())\n",
    "n8=int(input())\n",
    "n9=int(input())\n",
    "n10=int(input())\n",
    "n11=int(input())\n",
    "n12=int(input())\n",
    "n13=int(input())\n",
    "n14=int(input())\n",
    "n15=int(input())\n",
    "n16=int(input())\n",
    "n17=int(input())\n",
    "n18=int(input())\n",
    "n19=int(input())\n",
    "n20=int(input())\n",
    "lista=[n1,n2,n3,n4,n5,n6,n7,n8,n9,n10,n11,n12,n13,n14,n15,n16,n17,n18,n19,n20]\n",
    "lista.reverse()\n",
    "print(\"N[0] = {}\".format(lista[0]))\n",
    "print(\"N[1] = {}\".format(lista[1]))\n",
    "print(\"N[2] = {}\".format(lista[2]))\n",
    "print(\"N[3] = {}\".format(lista[3]))\n",
    "print(\"N[4] = {}\".format(lista[4]))\n",
    "print(\"N[5] = {}\".format(lista[5]))\n",
    "print(\"N[6] = {}\".format(lista[6]))\n",
    "print(\"N[7] = {}\".format(lista[7]))\n",
    "print(\"N[8] = {}\".format(lista[8]))\n",
    "print(\"N[9] = {}\".format(lista[9]))\n",
    "print(\"N[10] = {}\".format(lista[10]))\n",
    "print(\"N[11] = {}\".format(lista[11]))\n",
    "print(\"N[12] = {}\".format(lista[12]))\n",
    "print(\"N[13] = {}\".format(lista[13]))\n",
    "print(\"N[14] = {}\".format(lista[14]))\n",
    "print(\"N[15] = {}\".format(lista[15]))\n",
    "print(\"N[16] = {}\".format(lista[16]))\n",
    "print(\"N[17] = {}\".format(lista[17]))\n",
    "print(\"N[18] = {}\".format(lista[18]))\n",
    "print(\"N[19] = {}\".format(lista[19]))"
   ]
  },
  {
   "cell_type": "code",
   "execution_count": null,
   "id": "73bbc6d9-95bc-416a-918e-7817b0b82795",
   "metadata": {},
   "outputs": [],
   "source": []
  }
 ],
 "metadata": {
  "kernelspec": {
   "display_name": "Python 3 (ipykernel)",
   "language": "python",
   "name": "python3"
  },
  "language_info": {
   "codemirror_mode": {
    "name": "ipython",
    "version": 3
   },
   "file_extension": ".py",
   "mimetype": "text/x-python",
   "name": "python",
   "nbconvert_exporter": "python",
   "pygments_lexer": "ipython3",
   "version": "3.11.7"
  }
 },
 "nbformat": 4,
 "nbformat_minor": 5
}
