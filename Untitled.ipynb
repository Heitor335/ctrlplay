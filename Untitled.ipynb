{
 "cells": [
  {
   "cell_type": "code",
   "execution_count": 2,
   "id": "445306ab-213f-480d-b2f8-d86c19796400",
   "metadata": {},
   "outputs": [
    {
     "name": "stdout",
     "output_type": "stream",
     "text": [
      "1\n",
      "2\n",
      "3\n",
      "4\n",
      "5\n",
      "6\n",
      "7\n",
      "9\n",
      "10\n"
     ]
    }
   ],
   "source": [
    "numeros=[1,2,3,4,5,6,7,9,10]\n",
    "for num in numeros:\n",
    " print(num)"
   ]
  },
  {
   "cell_type": "code",
   "execution_count": 6,
   "id": "d6727d2d-2358-457c-abcd-2bef6edd5566",
   "metadata": {},
   "outputs": [
    {
     "name": "stdout",
     "output_type": "stream",
     "text": [
      "2                   \n",
      "4                   \n",
      "6                   \n",
      "8                   \n",
      "10                  \n"
     ]
    }
   ],
   "source": [
    "for num in range (1,11):\n",
    " if num % 2 == 0:\n",
    "     print('{:<20}'.format(num))"
   ]
  },
  {
   "cell_type": "code",
   "execution_count": 8,
   "id": "53042ef5-5f29-4cf6-aacd-336a746b01a2",
   "metadata": {},
   "outputs": [
    {
     "name": "stdout",
     "output_type": "stream",
     "text": [
      "c\n",
      "t\n",
      "r\n",
      "l\n",
      "+\n",
      "p\n",
      "l\n",
      "a\n",
      "y\n"
     ]
    }
   ],
   "source": [
    "for letra in \"ctrl+play\":\n",
    " print(letra)"
   ]
  },
  {
   "cell_type": "code",
   "execution_count": 13,
   "id": "748fcb5f-1ed7-4cf5-ac5f-56dd0d5deef4",
   "metadata": {},
   "outputs": [
    {
     "name": "stdout",
     "output_type": "stream",
     "text": [
      "1\n",
      "2\n",
      "3\n",
      "4\n",
      "5\n",
      "6\n",
      "7\n",
      "8\n",
      "9\n",
      "10\n",
      "11\n",
      "12\n",
      "13\n",
      "14\n",
      "15\n",
      "16\n",
      "17\n",
      "18\n",
      "19\n",
      "20\n",
      "21\n",
      "22\n",
      "23\n",
      "24\n",
      "25\n",
      "26\n",
      "27\n",
      "28\n",
      "29\n",
      "30\n",
      "31\n",
      "32\n",
      "33\n",
      "34\n",
      "35\n",
      "36\n",
      "37\n",
      "38\n",
      "39\n",
      "40\n",
      "41\n",
      "42\n",
      "43\n",
      "44\n",
      "45\n",
      "46\n",
      "47\n",
      "48\n",
      "49\n",
      "50\n",
      "51\n",
      "52\n",
      "53\n",
      "54\n",
      "55\n",
      "56\n",
      "57\n",
      "58\n",
      "59\n",
      "60\n",
      "61\n",
      "62\n",
      "63\n",
      "64\n",
      "65\n",
      "66\n",
      "67\n",
      "68\n",
      "69\n",
      "70\n",
      "71\n",
      "72\n",
      "73\n",
      "74\n",
      "75\n",
      "76\n",
      "77\n",
      "78\n",
      "79\n",
      "80\n",
      "81\n",
      "82\n",
      "83\n",
      "84\n",
      "85\n",
      "86\n",
      "87\n",
      "88\n",
      "89\n",
      "90\n",
      "91\n",
      "92\n",
      "93\n",
      "94\n",
      "95\n",
      "96\n",
      "97\n",
      "98\n",
      "99\n",
      "100\n"
     ]
    }
   ],
   "source": [
    "soma=0\n",
    "numeros=range(1,1000)\n",
    "i=0\n",
    "while soma < 100:\n",
    "    soma+= numeros[i]\n",
    "    print(soma)"
   ]
  },
  {
   "cell_type": "code",
   "execution_count": 20,
   "id": "510f8f86-c7b4-4bdb-93a4-c0e7079eb91a",
   "metadata": {},
   "outputs": [
    {
     "name": "stdout",
     "output_type": "stream",
     "text": [
      "procurando...\n",
      "procurando...\n",
      "3\n",
      "procurando...\n",
      "6\n",
      "procurando...\n",
      "procurando...\n",
      "9\n",
      "procurando...\n",
      "12\n",
      "procurando...\n",
      "procurando...\n",
      "15\n",
      "procurando...\n",
      "procurando...\n",
      "18\n",
      "procurando...\n",
      "21\n",
      "procurando...\n",
      "procurando...\n",
      "24\n",
      "procurando...\n",
      "27\n",
      "procurando...\n",
      "procurando...\n",
      "30\n",
      "procurando...\n",
      "procurando...\n",
      "33\n",
      "procurando...\n",
      "36\n",
      "procurando...\n",
      "procurando...\n",
      "39\n",
      "procurando...\n",
      "42\n",
      "315\n"
     ]
    }
   ],
   "source": [
    "soma = x = 0\n",
    "while x < 1000:\n",
    "    x+= 1 \n",
    "    if x % 3 == 0:\n",
    "        print (x)\n",
    "        soma += x \n",
    "    elif x % 5 == 0:\n",
    "        pass\n",
    "    else:\n",
    "        print(\"procurando...\")\n",
    "        continue\n",
    "    if soma > 300:\n",
    "        print(soma)\n",
    "        break"
   ]
  },
  {
   "cell_type": "code",
   "execution_count": 29,
   "id": "62ff4c65-7ac4-44f2-87ba-004671d794e7",
   "metadata": {},
   "outputs": [
    {
     "name": "stdin",
     "output_type": "stream",
     "text": [
      " 1\n"
     ]
    },
    {
     "name": "stdout",
     "output_type": "stream",
     "text": [
      "1x1=1\n",
      "1x2=2\n",
      "1x3=3\n",
      "1x4=4\n",
      "1x5=5\n",
      "1x6=6\n",
      "1x7=7\n",
      "1x8=8\n",
      "1x9=9\n",
      "1x10=10\n"
     ]
    }
   ],
   "source": [
    "n=int(input()) \n",
    "for cont in range(1,11):\n",
    "    print(\"{}x{}={}\".format(n,cont,n*cont))"
   ]
  },
  {
   "cell_type": "code",
   "execution_count": 45,
   "id": "79f3261c-613b-4605-87a8-788032f0e219",
   "metadata": {},
   "outputs": [
    {
     "name": "stdin",
     "output_type": "stream",
     "text": [
      " 11111111111111111111111111111111111111111111111111111111111111111111111111111111111111111111111111111111111111111111111111111111111111111111111111111111111111111111111111111111111111111111111111111111111111111111111111111111111111111111111111111111111111111111111111111111111111111111111111111111111111111111111111111111111111111111111111111111111111111111111111111111111111111111111\n",
      " 43\n",
      " 4324\n",
      " 242\n",
      " 424\n",
      " 424\n",
      " 242442\n",
      " 4443\n",
      " 44334\n",
      " 4443\n"
     ]
    },
    {
     "name": "stdout",
     "output_type": "stream",
     "text": [
      "11111111111111111111111111111111111111111111111111111111111111111111111111111111111111111111111111111111111111111111111111111111111111111111111111111111111111111111111111111111111111111111111111111111111111111111111111111111111111111111111111111111111111111111111111111111111111111111111111111111111111111111111111111111111111111111111111111111111111111111111111111111111111111111111\n"
     ]
    }
   ],
   "source": [
    "maior = 0\n",
    "lista=[]\n",
    "for c in range(1,11):\n",
    "    num=int(input())\n",
    "    lista.append(num)\n",
    "for cont in range (0,len(lista)):\n",
    "    if cont==0:\n",
    "        maior=lista[0]\n",
    "    if lista[cont]>maior:\n",
    "        maior=lista[cont]\n",
    "print(maior)"
   ]
  },
  {
   "cell_type": "code",
   "execution_count": 7,
   "id": "c1054bef-f7a7-4473-853b-107b7709fd66",
   "metadata": {},
   "outputs": [
    {
     "name": "stdin",
     "output_type": "stream",
     "text": [
      " 10\n"
     ]
    },
    {
     "name": "stdout",
     "output_type": "stream",
     "text": [
      "0 1 1 2 3 5 8 13 21 34\n"
     ]
    }
   ],
   "source": [
    "n = int(input())\n",
    "fibo1= 0\n",
    "fibo2= 1\n",
    "if n == 1:\n",
    "    print(\"()\".format(fibo1), end=\" \")\n",
    "if n >= 2:\n",
    "    print(\"{} {}\".format(fibo1,fibo2),end=\" \")\n",
    "    cont = 3\n",
    "    while cont <= n:\n",
    "        if cont == n:\n",
    "            fibo3 = fibo1 + fibo2\n",
    "            print(\"{}\".format(fibo3))\n",
    "            break\n",
    "        else:\n",
    "            fibo3 = fibo1 + fibo2\n",
    "            fibo1 = fibo2\n",
    "            fibo2 = fibo3\n",
    "            print(\"{}\".format(fibo3),end=\" \")\n",
    "            cont += 1"
   ]
  },
  {
   "cell_type": "code",
   "execution_count": null,
   "id": "9b30bf2a-3211-4540-9d22-15e107c52e18",
   "metadata": {},
   "outputs": [],
   "source": []
  }
 ],
 "metadata": {
  "kernelspec": {
   "display_name": "Python 3 (ipykernel)",
   "language": "python",
   "name": "python3"
  },
  "language_info": {
   "codemirror_mode": {
    "name": "ipython",
    "version": 3
   },
   "file_extension": ".py",
   "mimetype": "text/x-python",
   "name": "python",
   "nbconvert_exporter": "python",
   "pygments_lexer": "ipython3",
   "version": "3.11.7"
  }
 },
 "nbformat": 4,
 "nbformat_minor": 5
}
