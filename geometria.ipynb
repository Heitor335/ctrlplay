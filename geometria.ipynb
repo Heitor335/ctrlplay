{
 "cells": [
  {
   "cell_type": "code",
   "execution_count": null,
   "id": "5c361f38-e40a-44ff-8e3c-d116d36ace10",
   "metadata": {},
   "outputs": [],
   "source": [
    "def areadocirculo(r):\n",
    "    return 3.14*(r**2)\n",
    "    "
   ]
  }
 ],
 "metadata": {
  "kernelspec": {
   "display_name": "Python 3 (ipykernel)",
   "language": "python",
   "name": "python3"
  },
  "language_info": {
   "codemirror_mode": {
    "name": "ipython",
    "version": 3
   },
   "file_extension": ".py",
   "mimetype": "text/x-python",
   "name": "python",
   "nbconvert_exporter": "python",
   "pygments_lexer": "ipython3",
   "version": "3.11.7"
  }
 },
 "nbformat": 4,
 "nbformat_minor": 5
}
