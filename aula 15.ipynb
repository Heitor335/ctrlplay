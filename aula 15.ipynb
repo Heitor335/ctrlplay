{
 "cells": [
  {
   "cell_type": "code",
   "execution_count": 1,
   "id": "26263341-6997-4ed2-a95d-0a94e8ea4f60",
   "metadata": {},
   "outputs": [
    {
     "name": "stdin",
     "output_type": "stream",
     "text": [
      " \n"
     ]
    },
    {
     "ename": "ValueError",
     "evalue": "invalid literal for int() with base 10: ''",
     "output_type": "error",
     "traceback": [
      "\u001b[1;31m---------------------------------------------------------------------------\u001b[0m",
      "\u001b[1;31mValueError\u001b[0m                                Traceback (most recent call last)",
      "Cell \u001b[1;32mIn[1], line 1\u001b[0m\n\u001b[1;32m----> 1\u001b[0m num \u001b[38;5;241m=\u001b[39m \u001b[38;5;28mint\u001b[39m (\u001b[38;5;28minput\u001b[39m())\n\u001b[0;32m      2\u001b[0m \u001b[38;5;28mprint\u001b[39m(num)\n",
      "\u001b[1;31mValueError\u001b[0m: invalid literal for int() with base 10: ''"
     ]
    }
   ],
   "source": [
    "num = int (input())\n",
    "print(num)\n"
   ]
  },
  {
   "cell_type": "code",
   "execution_count": 2,
   "id": "6ad12108-b5cb-4b80-ba82-4f9b33e83d68",
   "metadata": {},
   "outputs": [
    {
     "ename": "SyntaxError",
     "evalue": "unterminated string literal (detected at line 1) (804846115.py, line 1)",
     "output_type": "error",
     "traceback": [
      "\u001b[1;36m  Cell \u001b[1;32mIn[2], line 1\u001b[1;36m\u001b[0m\n\u001b[1;33m    print(\"ctrl+play)\u001b[0m\n\u001b[1;37m          ^\u001b[0m\n\u001b[1;31mSyntaxError\u001b[0m\u001b[1;31m:\u001b[0m unterminated string literal (detected at line 1)\n"
     ]
    }
   ],
   "source": [
    "print(\"ctrl+play)\n",
    "      "
   ]
  },
  {
   "cell_type": "code",
   "execution_count": 11,
   "id": "5d77492d-80c4-400e-85a4-ee06afe783b2",
   "metadata": {},
   "outputs": [
    {
     "name": "stdin",
     "output_type": "stream",
     "text": [
      "digite um numero 5\n",
      "digite outro numero 0,5\n"
     ]
    },
    {
     "ename": "ValueError",
     "evalue": "invalid literal for int() with base 10: '0,5'",
     "output_type": "error",
     "traceback": [
      "\u001b[1;31m---------------------------------------------------------------------------\u001b[0m",
      "\u001b[1;31mValueError\u001b[0m                                Traceback (most recent call last)",
      "Cell \u001b[1;32mIn[11], line 2\u001b[0m\n\u001b[0;32m      1\u001b[0m x \u001b[38;5;241m=\u001b[39m \u001b[38;5;28mint\u001b[39m(\u001b[38;5;28minput\u001b[39m(\u001b[38;5;124m\"\u001b[39m\u001b[38;5;124mdigite um numero\u001b[39m\u001b[38;5;124m\"\u001b[39m))\n\u001b[1;32m----> 2\u001b[0m y \u001b[38;5;241m=\u001b[39m \u001b[38;5;28mint\u001b[39m(\u001b[38;5;28minput\u001b[39m(\u001b[38;5;124m\"\u001b[39m\u001b[38;5;124mdigite outro numero\u001b[39m\u001b[38;5;124m\"\u001b[39m))\n\u001b[0;32m      3\u001b[0m \u001b[38;5;28mprint\u001b[39m(x\u001b[38;5;241m/\u001b[39my)\n",
      "\u001b[1;31mValueError\u001b[0m: invalid literal for int() with base 10: '0,5'"
     ]
    }
   ],
   "source": [
    "x = int(input(\"digite um numero\"))\n",
    "y = int(input(\"digite outro numero\"))\n",
    "print(x/y)"
   ]
  },
  {
   "cell_type": "code",
   "execution_count": 14,
   "id": "062ede0f-e15e-424b-93da-0ab478eba18b",
   "metadata": {},
   "outputs": [
    {
     "name": "stdin",
     "output_type": "stream",
     "text": [
      "digite um numero 10\n",
      "digite outro numero 0\n"
     ]
    },
    {
     "name": "stdout",
     "output_type": "stream",
     "text": [
      "aparentemente vc digitou errado tente novamente\n"
     ]
    }
   ],
   "source": [
    "try: \n",
    "    x = int(input(\"digite um numero\"))\n",
    "    y = int(input(\"digite outro numero\"))\n",
    "    print(x/y)\n",
    "\n",
    "\n",
    "except: \n",
    "       print(\"aparentemente vc digitou errado tente novamente\")\n",
    "\n",
    "else: \n",
    "    print(\" vc digitou certo! uhul\")"
   ]
  },
  {
   "cell_type": "code",
   "execution_count": 15,
   "id": "ff2d9d6a-d377-4a28-94e0-cbe96a3eaa80",
   "metadata": {},
   "outputs": [
    {
     "name": "stdout",
     "output_type": "stream",
     "text": [
      "texto escrito com sucesso\n"
     ]
    }
   ],
   "source": [
    "try:\n",
    "    f = open(\"arquivo.txt\", \"w\")\n",
    "    f.write(\"tente escrever isto\")\n",
    "\n",
    "except:\n",
    "       print(\"nao foi possivel localizar o arquivo\")\n",
    "\n",
    "else:\n",
    "    print(\"texto escrito com sucesso\")\n",
    "    f.close()"
   ]
  },
  {
   "cell_type": "code",
   "execution_count": 16,
   "id": "d58f8cdd-1d32-4d66-895f-d69ca68d0ea6",
   "metadata": {},
   "outputs": [
    {
     "name": "stdout",
     "output_type": "stream",
     "text": [
      "nao foi possivel localizar o arquivo\n"
     ]
    }
   ],
   "source": [
    "try:\n",
    "    f = open(\"arquivo.txt\", \"r\")\n",
    "    f.write(\"tente escrever isto\")\n",
    "\n",
    "except:\n",
    "       print(\"nao foi possivel localizar o arquivo\")\n",
    "\n",
    "else:\n",
    "    print(\"texto escrito com sucesso\")\n",
    "    f.close()"
   ]
  },
  {
   "cell_type": "code",
   "execution_count": 18,
   "id": "5650b14f-7eca-4817-bd10-f4f4a35974df",
   "metadata": {},
   "outputs": [
    {
     "name": "stdout",
     "output_type": "stream",
     "text": [
      "texto escrito com sucesso\n",
      "obrigado por usar nosso sistema\n"
     ]
    }
   ],
   "source": [
    "try:\n",
    "    f = open(\"arquivo.txt\", \"w\")\n",
    "    f.write(\"tente escrever isto\")\n",
    "\n",
    "except:\n",
    "       print(\"nao foi possivel localizar o arquivo\")\n",
    "\n",
    "else:\n",
    "    print(\"texto escrito com sucesso\")\n",
    "    f.close()\n",
    "\n",
    "finally:\n",
    "        print(\"obrigado por usar nosso sistema\")"
   ]
  },
  {
   "cell_type": "code",
   "execution_count": 23,
   "id": "94d77b3a-3028-4da9-bc32-a5227db93eeb",
   "metadata": {},
   "outputs": [
    {
     "name": "stdin",
     "output_type": "stream",
     "text": [
      "digite um numero inteiro: 234\n"
     ]
    },
    {
     "name": "stdout",
     "output_type": "stream",
     "text": [
      "muito bem!\n",
      "tentativa numero: 1\n",
      "234\n"
     ]
    }
   ],
   "source": [
    "def pergunta_numero():\n",
    "    numero = 1\n",
    "    while True:\n",
    "        try:\n",
    "            val = int(input(\"digite um numero inteiro:\"))\n",
    "        except:\n",
    "            print(\"parece que vc nao digitou um inteiro\")\n",
    "            continue\n",
    "        else:\n",
    "            print(\"muito bem!\")\n",
    "            break\n",
    "        finally:\n",
    "            print(\"tentativa numero: {}\" .format(numero))\n",
    "            numero +=1\n",
    "    print(val)\n",
    "\n",
    "pergunta_numero()"
   ]
  },
  {
   "cell_type": "code",
   "execution_count": 40,
   "id": "1fd9a1f3-bbe7-4213-b5f0-5e9152287a91",
   "metadata": {},
   "outputs": [
    {
     "name": "stdin",
     "output_type": "stream",
     "text": [
      " 4\n"
     ]
    },
    {
     "name": "stdout",
     "output_type": "stream",
     "text": [
      "1 1 1\n",
      "2 4 8\n",
      "3 9 27\n",
      "4 16 64\n"
     ]
    }
   ],
   "source": [
    "    try:\n",
    "        a = int(input())\n",
    "    except:\n",
    "        print(\"parece que vc digitou um numero que nao e inteiro ou alguma letra\")\n",
    "    else:\n",
    "        for num in range (1,a+1):\n",
    "            print(\"{} {} {}\".format(num, num**2, num**3))\n",
    "        "
   ]
  },
  {
   "cell_type": "code",
   "execution_count": null,
   "id": "d0309139-5857-4d3f-8525-f3f1e2032b32",
   "metadata": {},
   "outputs": [],
   "source": []
  }
 ],
 "metadata": {
  "kernelspec": {
   "display_name": "Python 3 (ipykernel)",
   "language": "python",
   "name": "python3"
  },
  "language_info": {
   "codemirror_mode": {
    "name": "ipython",
    "version": 3
   },
   "file_extension": ".py",
   "mimetype": "text/x-python",
   "name": "python",
   "nbconvert_exporter": "python",
   "pygments_lexer": "ipython3",
   "version": "3.11.7"
  }
 },
 "nbformat": 4,
 "nbformat_minor": 5
}
