{
 "cells": [
  {
   "cell_type": "code",
   "execution_count": null,
   "id": "dc78c51a-ad0a-4529-92c1-3ec116ca3f5c",
   "metadata": {},
   "outputs": [],
   "source": [
    "import CY1_aula_17_ChatbotBase as pc\n",
    "\n",
    "nome_maquina = \"maria\"\n",
    "pc.saudacoes(nome_maquina)\n",
    "while True:\n",
    "    texto = pc.recebeTexto(nome_maquina)\n",
    "    resposta =pc.buscarResposta(nome_maquina, texto)\n",
    "    if pc.exibeResposta(resposta,nome_maquina) == \"fim\":\n",
    "        break"
   ]
  }
 ],
 "metadata": {
  "kernelspec": {
   "display_name": "Python 3 (ipykernel)",
   "language": "python",
   "name": "python3"
  },
  "language_info": {
   "codemirror_mode": {
    "name": "ipython",
    "version": 3
   },
   "file_extension": ".py",
   "mimetype": "text/x-python",
   "name": "python",
   "nbconvert_exporter": "python",
   "pygments_lexer": "ipython3",
   "version": "3.11.7"
  }
 },
 "nbformat": 4,
 "nbformat_minor": 5
}
