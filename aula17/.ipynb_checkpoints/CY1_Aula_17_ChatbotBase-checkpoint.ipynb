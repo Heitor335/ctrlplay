{
 "cells": [
  {
   "cell_type": "code",
   "execution_count": null,
   "id": "22766588-0811-4820-bdd5-218b7ab64144",
   "metadata": {},
   "outputs": [],
   "source": [
    "def saudacoes(nome):\n",
    "    import random\n",
    "    frases = [\" Bom dia! Meu nome e {}. como vai voce?\".format(nome),\n",
    "                \"ola!\", \"oi, tudo bem?\"]\n",
    "    print(frases[random.randint(0,2)])\n",
    "\n",
    "def recebeTexto(nome):\n",
    "    texto = \"Cliente: \" + input(\"Cliente: \")\n",
    "    palavraProibida = [\"boco\"]\n",
    "    for p in palavraProibida:\n",
    "        if p in texto:\n",
    "            print(\"{}: nao vem nao! me respeite!\". format(nome))\n",
    "            return recebeTexto(nome)\n",
    "        return texto\n",
    "\n",
    "def buscaResposta(nome, texto):\n",
    "    with open(\"CY1_Aula_17_BaseConhecimento.txt\",\"a+\") as base:\n",
    "        base.seek(0)\n",
    "        while True:\n",
    "            viu = base.readline()\n",
    "            if viu!= \"\":\n",
    "                if texto.replace(\"Cliente: \",\"\") == \"Tchau\":\n",
    "                    print(\" {}: volte sempre!\".format(nome))\n",
    "                    return \"fim\"\n",
    "                elif viu.strip() == texto.strip():\n",
    "                    proximalinha = base.readline()\n",
    "                    if \"Chatbot: \" in proximalinha:\n",
    "                        return proximalinha\n",
    "\n",
    "            else:\n",
    "                print(\"{}: me desculpe, nao sei o que falar\".format(nome))\n",
    "                base.write(\"\\n{}\".format(texto))\n",
    "                resposta_user = input((\"{}: o que esperava?\\n\".format(nome)))\n",
    "                base.write(\"\\nChatbot: {}\".format(resposta_user))\n",
    "                return \"hum...\"\n",
    "\n",
    "def exibeResposta(resposta, nome):\n",
    "    print(resposta.replace(\"chatbot\", nome))\n",
    "    if resposta == \"fim\":\n",
    "        return \"fim\"\n",
    "    return \" continua\""
   ]
  }
 ],
 "metadata": {
  "kernelspec": {
   "display_name": "Python 3 (ipykernel)",
   "language": "python",
   "name": "python3"
  },
  "language_info": {
   "codemirror_mode": {
    "name": "ipython",
    "version": 3
   },
   "file_extension": ".py",
   "mimetype": "text/x-python",
   "name": "python",
   "nbconvert_exporter": "python",
   "pygments_lexer": "ipython3",
   "version": "3.11.7"
  }
 },
 "nbformat": 4,
 "nbformat_minor": 5
}
