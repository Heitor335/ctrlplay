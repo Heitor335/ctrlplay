{
 "cells": [
  {
   "cell_type": "code",
   "execution_count": null,
   "id": "dc78c51a-ad0a-4529-92c1-3ec116ca3f5c",
   "metadata": {},
   "outputs": [
    {
     "name": "stdout",
     "output_type": "stream",
     "text": [
      " Bom dia! Meu nome e maria. como vai voce?\n"
     ]
    },
    {
     "name": "stdin",
     "output_type": "stream",
     "text": [
      "Cliente:  Qual a sua comida favorita?\n"
     ]
    },
    {
     "name": "stdout",
     "output_type": "stream",
     "text": [
      "maria: me desculpe, nao sei o que falar\n"
     ]
    }
   ],
   "source": [
    "import CY1_Aula_17_ChatbotBase as pc\n",
    "\n",
    "nome_maquina = \"maria\"\n",
    "pc.saudacoes(nome_maquina)\n",
    "while True:\n",
    "    texto = pc.recebeTexto(nome_maquina)\n",
    "    resposta =pc.buscaResposta(nome_maquina, texto)\n",
    "    if pc.exibeResposta(resposta,nome_maquina) == \"fim\":\n",
    "        break"
   ]
  },
  {
   "cell_type": "code",
   "execution_count": null,
   "id": "d6ebd5db-e480-47bf-98e9-ab147abe21e1",
   "metadata": {},
   "outputs": [],
   "source": []
  }
 ],
 "metadata": {
  "kernelspec": {
   "display_name": "Python 3 (ipykernel)",
   "language": "python",
   "name": "python3"
  },
  "language_info": {
   "codemirror_mode": {
    "name": "ipython",
    "version": 3
   },
   "file_extension": ".py",
   "mimetype": "text/x-python",
   "name": "python",
   "nbconvert_exporter": "python",
   "pygments_lexer": "ipython3",
   "version": "3.11.7"
  }
 },
 "nbformat": 4,
 "nbformat_minor": 5
}
