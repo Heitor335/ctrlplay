{
 "cells": [
  {
   "cell_type": "code",
   "execution_count": 1,
   "id": "17bc312f-d1e3-4f81-bc6d-5b256e27e6b3",
   "metadata": {},
   "outputs": [
    {
     "name": "stdin",
     "output_type": "stream",
     "text": [
      "digite um numero:  5\n"
     ]
    },
    {
     "name": "stdout",
     "output_type": "stream",
     "text": [
      "1 5 \n",
      " 5 e primo!\n"
     ]
    }
   ],
   "source": [
    "cont=0\n",
    "n = int(input(\"digite um numero: \"))\n",
    "for c in range (1, n + 1):\n",
    "    if n % c == 0:\n",
    "        print(\"{}\".format(c), end=\" \")\n",
    "        cont += 1\n",
    "print()\n",
    "if cont == 2:\n",
    "    print(\" {} e primo!\".format(n))\n",
    "else:\n",
    "    print(\"{} nao e primo!\".format(n))"
   ]
  },
  {
   "cell_type": "code",
   "execution_count": 4,
   "id": "12e4da9b-069c-4652-b614-f34b2a4f3ae3",
   "metadata": {},
   "outputs": [
    {
     "name": "stdout",
     "output_type": "stream",
     "text": [
      "tres\n",
      "('tres', True, 4.5)\n",
      "4.5\n"
     ]
    }
   ],
   "source": [
    "t = (\"um\", 2, \"tres\", True, 4.5, \"cinco\", False)\n",
    "print(t[2])\n",
    "print(t[2:5])\n",
    "print(t[4])"
   ]
  },
  {
   "cell_type": "code",
   "execution_count": 11,
   "id": "0a5b7c2b-fbfd-46c8-9892-92c7e5705f07",
   "metadata": {},
   "outputs": [
    {
     "name": "stdout",
     "output_type": "stream",
     "text": [
      "10\n",
      "6\n",
      "1\n"
     ]
    },
    {
     "ename": "AttributeError",
     "evalue": "'tuple' object has no attribute 'pop'",
     "output_type": "error",
     "traceback": [
      "\u001b[1;31m---------------------------------------------------------------------------\u001b[0m",
      "\u001b[1;31mAttributeError\u001b[0m                            Traceback (most recent call last)",
      "Cell \u001b[1;32mIn[11], line 5\u001b[0m\n\u001b[0;32m      3\u001b[0m \u001b[38;5;28mprint\u001b[39m(t\u001b[38;5;241m.\u001b[39mindex(\u001b[38;5;241m7\u001b[39m))\n\u001b[0;32m      4\u001b[0m \u001b[38;5;28mprint\u001b[39m(t\u001b[38;5;241m.\u001b[39mcount(\u001b[38;5;241m2\u001b[39m))\n\u001b[1;32m----> 5\u001b[0m t\u001b[38;5;241m.\u001b[39mpop()\n",
      "\u001b[1;31mAttributeError\u001b[0m: 'tuple' object has no attribute 'pop'"
     ]
    }
   ],
   "source": [
    "t = (1,2,3,4,5,6,7,8,9,10)\n",
    "print(len(t))\n",
    "print(t.index(7))\n",
    "print(t.count(2))"
   ]
  },
  {
   "cell_type": "code",
   "execution_count": 13,
   "id": "0e92a9c3-32b5-4ec3-a76c-956ed4c039f9",
   "metadata": {},
   "outputs": [
    {
     "name": "stdout",
     "output_type": "stream",
     "text": [
      "{1, 2}\n",
      "{1, 2}\n"
     ]
    }
   ],
   "source": [
    "x= set()\n",
    "x.add(1)\n",
    "x.add(2)\n",
    "print(x)\n",
    "x.add(1)\n",
    "print(x)"
   ]
  },
  {
   "cell_type": "code",
   "execution_count": 17,
   "id": "7ceb4133-1fb9-434a-89fe-e27cff32d1e9",
   "metadata": {},
   "outputs": [
    {
     "name": "stdout",
     "output_type": "stream",
     "text": [
      "True False True False None\n"
     ]
    }
   ],
   "source": [
    "a = True\n",
    "b = False\n",
    "\"\"\"\n",
    "os valores booleanos podem ser atribuidos por meio de expressoes\n",
    "\"\"\"\n",
    "c = 1 < 2\n",
    "d = 7 > 10\n",
    "e= None\n",
    "print (a, b, c, d, e)"
   ]
  },
  {
   "cell_type": "code",
   "execution_count": 28,
   "id": "e5c97759-d415-4ed9-8c02-a832081dd389",
   "metadata": {},
   "outputs": [
    {
     "name": "stdout",
     "output_type": "stream",
     "text": [
      "{'titulo': 'star wars', 'ano': 1977, 'diretor': 'george lucas'}\n",
      "o titulo e star wars\n",
      "o ano e 1977\n",
      "o diretor e george lucas\n"
     ]
    }
   ],
   "source": [
    "filme={}\n",
    "filme[\"titulo\"]=\"star wars\"\n",
    "filme[\"ano\"]=1977\n",
    "filme[\"diretor\"]=\"george lucas\"\n",
    "print(filme)\n",
    "for k,v in filme.items():\n",
    "    print(\"o {} e {}\".format(k,v))\n"
   ]
  },
  {
   "cell_type": "code",
   "execution_count": 7,
   "id": "4bd591d7-34cd-45df-aff9-f321569ae1a5",
   "metadata": {},
   "outputs": [
    {
     "name": "stdout",
     "output_type": "stream",
     "text": [
      "CACHORRO\n",
      "dict_keys(['dog', 'cat', 'key2'])\n"
     ]
    }
   ],
   "source": [
    "dicionarioinglesportugues = {\"dog\":\"cachorro\",\"cat\":\"cat\",\"key2\":[12,23,33]}\n",
    "print(dicionarioinglesportugues[\"dog\"].upper())\n",
    "print(dicionarioinglesportugues.keys())"
   ]
  },
  {
   "cell_type": "code",
   "execution_count": null,
   "id": "f1570f77-8698-4705-b6ef-ac40c185bfd8",
   "metadata": {},
   "outputs": [],
   "source": [
    "x=set()\n",
    "lista = [1,3,2\n",
    "for n in lista1"
   ]
  }
 ],
 "metadata": {
  "kernelspec": {
   "display_name": "Python 3 (ipykernel)",
   "language": "python",
   "name": "python3"
  },
  "language_info": {
   "codemirror_mode": {
    "name": "ipython",
    "version": 3
   },
   "file_extension": ".py",
   "mimetype": "text/x-python",
   "name": "python",
   "nbconvert_exporter": "python",
   "pygments_lexer": "ipython3",
   "version": "3.11.7"
  }
 },
 "nbformat": 4,
 "nbformat_minor": 5
}
