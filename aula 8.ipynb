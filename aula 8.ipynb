{
 "cells": [
  {
   "cell_type": "code",
   "execution_count": 15,
   "id": "7776353b-b6d3-4188-8c76-7a442cdc40c5",
   "metadata": {},
   "outputs": [
    {
     "name": "stdout",
     "output_type": "stream",
     "text": [
      "Overwriting texto.txt\n"
     ]
    }
   ],
   "source": [
    "%%writefile texto.txt\n",
    "opa beleza "
   ]
  },
  {
   "cell_type": "code",
   "execution_count": 18,
   "id": "cf321cd8-0766-4936-9f65-b9b9cc73b5ba",
   "metadata": {},
   "outputs": [
    {
     "data": {
      "text/plain": [
       "'opa beleza \\n'"
      ]
     },
     "execution_count": 18,
     "metadata": {},
     "output_type": "execute_result"
    }
   ],
   "source": [
    "arquivo = open(\"texto.txt\")\n",
    "arquivo.read()"
   ]
  },
  {
   "cell_type": "code",
   "execution_count": 57,
   "id": "6aa7a086-b24f-4a4f-861d-9162bffb6e00",
   "metadata": {},
   "outputs": [
    {
     "name": "stdout",
     "output_type": "stream",
     "text": [
      "Overwriting herois2.txt\n"
     ]
    }
   ],
   "source": [
    "%%writefile herois2.txt\n",
    "homem-aranha,marvel\n",
    "flash,dc\n",
    "motoqueiro-fantasma,marvel\n",
    "lobo,dc\n",
    "hello,ola"
   ]
  },
  {
   "cell_type": "code",
   "execution_count": 32,
   "id": "d63bb53d-edd2-4f92-8a52-85a3317ce595",
   "metadata": {},
   "outputs": [],
   "source": [
    "arquivo = open(\"herois.txt\")"
   ]
  },
  {
   "cell_type": "code",
   "execution_count": 34,
   "id": "b3e6fbee-db1c-4be4-a733-c7070705653e",
   "metadata": {},
   "outputs": [
    {
     "data": {
      "text/plain": [
       "'homem-aranha,marvel\\nflash,dc\\n'"
      ]
     },
     "execution_count": 34,
     "metadata": {},
     "output_type": "execute_result"
    }
   ],
   "source": [
    "arquivo.read()"
   ]
  },
  {
   "cell_type": "code",
   "execution_count": 35,
   "id": "40cf3bf2-5465-4d68-b1c7-e22be5f39c15",
   "metadata": {},
   "outputs": [
    {
     "data": {
      "text/plain": [
       "''"
      ]
     },
     "execution_count": 35,
     "metadata": {},
     "output_type": "execute_result"
    }
   ],
   "source": [
    "arquivo.read()"
   ]
  },
  {
   "cell_type": "code",
   "execution_count": 36,
   "id": "d4ef9c18-c831-4148-b948-ebf524e34505",
   "metadata": {},
   "outputs": [
    {
     "data": {
      "text/plain": [
       "'homem-aranha,marvel\\nflash,dc\\n'"
      ]
     },
     "execution_count": 36,
     "metadata": {},
     "output_type": "execute_result"
    }
   ],
   "source": [
    "arquivo.seek(0)\n",
    "\n",
    "arquivo.read()"
   ]
  },
  {
   "cell_type": "code",
   "execution_count": 41,
   "id": "166dcdd0-2370-40a2-b503-59770b7f12b1",
   "metadata": {},
   "outputs": [
    {
     "name": "stdout",
     "output_type": "stream",
     "text": [
      "homem-aranha,marvel\n",
      "\n",
      "flash,dc\n",
      "\n",
      "motoqueiro-fantasma,marvel\n",
      "\n",
      "lobo,dc\n",
      "\n",
      "hello,ola\n",
      "\n"
     ]
    }
   ],
   "source": [
    "arquivo = open(\"herois.txt\")\n",
    "for x in arquivo:\n",
    "    print(x)"
   ]
  },
  {
   "cell_type": "code",
   "execution_count": 79,
   "id": "295e2eff-a648-4cda-bfb5-9508fb654948",
   "metadata": {},
   "outputs": [
    {
     "data": {
      "text/plain": [
       "21"
      ]
     },
     "execution_count": 79,
     "metadata": {},
     "output_type": "execute_result"
    }
   ],
   "source": [
    "arquivo = open('herois2.txt','w')\n",
    "arquivo.write(\"\\ncapita marvel,marvel\")"
   ]
  },
  {
   "cell_type": "code",
   "execution_count": 80,
   "id": "7af7b153-a730-44ef-bb1c-60dfe8249258",
   "metadata": {},
   "outputs": [
    {
     "data": {
      "text/plain": [
       "10"
      ]
     },
     "execution_count": 80,
     "metadata": {},
     "output_type": "execute_result"
    }
   ],
   "source": [
    "arquivo = open('herois2.txt','a')\n",
    "arquivo.write(\"\\nsuper-homem,dc\")\n",
    "arquivo.write(\"\\nghost,cod\")"
   ]
  },
  {
   "cell_type": "code",
   "execution_count": 81,
   "id": "82de8286-3760-4cef-9893-d6dbee4596ec",
   "metadata": {},
   "outputs": [
    {
     "name": "stdout",
     "output_type": "stream",
     "text": [
      "\n",
      "\n",
      "capita marvel,marvel\n",
      "\n",
      "super-homem,dc\n",
      "\n",
      "ghost,cod\n"
     ]
    }
   ],
   "source": [
    "arquivo = open(\"herois2.txt\",\"r\")\n",
    "for x in arquivo:\n",
    "    print(x)"
   ]
  },
  {
   "cell_type": "code",
   "execution_count": 85,
   "id": "610752a3-022b-4dad-8409-c71f77c04717",
   "metadata": {},
   "outputs": [
    {
     "name": "stdout",
     "output_type": "stream",
     "text": [
      "\n",
      "\n",
      "capita marvel,marvel\n",
      "\n",
      "super-homem,dc\n",
      "\n",
      "ghost,cod\n"
     ]
    }
   ],
   "source": [
    "with open(\"herois2.txt\") as arquivo:\n",
    "    for x in arquivo:\n",
    "        print(x)\n",
    "   \n",
    "    "
   ]
  },
  {
   "cell_type": "code",
   "execution_count": null,
   "id": "a589fe8c-2ce0-4f9d-9e09-ada0fee32c7f",
   "metadata": {},
   "outputs": [],
   "source": []
  },
  {
   "cell_type": "code",
   "execution_count": 86,
   "id": "7a998937-288b-459c-b8b7-0e35099ee23a",
   "metadata": {},
   "outputs": [],
   "source": [
    "arquivo = open(\"herois.txt\")"
   ]
  },
  {
   "cell_type": "code",
   "execution_count": 105,
   "id": "7d135e0e-fae1-480f-82e0-e8b8142f3cb9",
   "metadata": {},
   "outputs": [
    {
     "name": "stdout",
     "output_type": "stream",
     "text": [
      "[75,100]\n"
     ]
    }
   ],
   "source": [
    "arquivo = open('intervalo.txt')\n",
    "x=int(arquivo.read())\n",
    "if x>= 0 and x< 25:\n",
    "    print(\"[0,25]\")\n",
    "elif x>= 25 and x< 50:\n",
    "    print(\"[25,50]\")\n",
    "elif x>= 50 and x< 75:\n",
    "    print(\"[50,75]\")\n",
    "else: \n",
    "    print(\"[75,100]\")"
   ]
  },
  {
   "cell_type": "code",
   "execution_count": 111,
   "id": "b3d512b7-2e61-4c55-9c30-8350f19050ea",
   "metadata": {},
   "outputs": [
    {
     "name": "stdout",
     "output_type": "stream",
     "text": [
      "16\n",
      "2\n"
     ]
    }
   ],
   "source": [
    "arquivo=open(\"tempo.txt\")\n",
    "inicio,fim=arquivo.read().split()\n",
    "print(inicio)\n",
    "print(fim)"
   ]
  },
  {
   "cell_type": "code",
   "execution_count": null,
   "id": "82520ca9-8745-4c33-b7e2-d67dd93e3058",
   "metadata": {},
   "outputs": [],
   "source": []
  }
 ],
 "metadata": {
  "kernelspec": {
   "display_name": "Python 3 (ipykernel)",
   "language": "python",
   "name": "python3"
  },
  "language_info": {
   "codemirror_mode": {
    "name": "ipython",
    "version": 3
   },
   "file_extension": ".py",
   "mimetype": "text/x-python",
   "name": "python",
   "nbconvert_exporter": "python",
   "pygments_lexer": "ipython3",
   "version": "3.11.7"
  }
 },
 "nbformat": 4,
 "nbformat_minor": 5
}
