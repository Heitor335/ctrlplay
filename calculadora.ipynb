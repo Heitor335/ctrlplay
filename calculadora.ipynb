{
 "cells": [
  {
   "cell_type": "code",
   "execution_count": 1,
   "id": "8d6d7306-1786-46ee-a147-b6715c7c1047",
   "metadata": {},
   "outputs": [],
   "source": [
    "def soma(a,b):\n",
    "    return a+b\n",
    "\n",
    "def subtraçao(a,b):\n",
    "    return a-b\n",
    "\n",
    "def multiplicaçao(a,b):\n",
    "    return a*b\n",
    "\n",
    "def divisao (a,b):\n",
    "    \n",
    "    return a/b\n",
    "    "
   ]
  },
  {
   "cell_type": "code",
   "execution_count": 14,
   "id": "cab28804-a008-4e40-8342-056118fac4a0",
   "metadata": {},
   "outputs": [
    {
     "name": "stdin",
     "output_type": "stream",
     "text": [
      " 10\n",
      " 9\n"
     ]
    },
    {
     "name": "stdout",
     "output_type": "stream",
     "text": [
      "X = 19\n"
     ]
    }
   ],
   "source": [
    "a= int(input())\n",
    "b= int(input())\n",
    "retur=a+b\n",
    "print(\"X = {}\".format(retur))\n"
   ]
  },
  {
   "cell_type": "code",
   "execution_count": 18,
   "id": "26adeb13-3577-45e8-bf00-f3a4085db3b4",
   "metadata": {},
   "outputs": [
    {
     "name": "stdin",
     "output_type": "stream",
     "text": [
      " 5\n",
      " 100\n",
      " 5.50\n"
     ]
    },
    {
     "name": "stdout",
     "output_type": "stream",
     "text": [
      "NUMBER = 5.00\n",
      "SALARY = U$ 550.00\n"
     ]
    }
   ],
   "source": [
    "numero=int(input())\n",
    "horas=int(input())\n",
    "valorhora=float(input())\n",
    "print(\"NUMBER = {}\".format(numero))\n",
    "print(\"SALARY = U$ {:.2f}\".format(horas*valorhora))"
   ]
  },
  {
   "cell_type": "code",
   "execution_count": 24,
   "id": "b36f11c8-bd4e-48e7-88a4-a2612537543f",
   "metadata": {},
   "outputs": [
    {
     "name": "stdin",
     "output_type": "stream",
     "text": [
      " 10\n",
      " 85\n"
     ]
    },
    {
     "name": "stdout",
     "output_type": "stream",
     "text": [
      "10.000\n",
      "85.000\n"
     ]
    }
   ],
   "source": [
    "tempo=int(input())\n",
    "velo=int(input())\n",
    "dist=tempo*velo\n",
    "comb=dist/12\n",
    "print(\"{:.3f}\".format(gastos))\n",
    "print(\"{:.3f}\".format(horas))"
   ]
  },
  {
   "cell_type": "code",
   "execution_count": null,
   "id": "d79828b7-025b-4386-985a-1827fcd99c37",
   "metadata": {},
   "outputs": [],
   "source": []
  }
 ],
 "metadata": {
  "kernelspec": {
   "display_name": "Python 3 (ipykernel)",
   "language": "python",
   "name": "python3"
  },
  "language_info": {
   "codemirror_mode": {
    "name": "ipython",
    "version": 3
   },
   "file_extension": ".py",
   "mimetype": "text/x-python",
   "name": "python",
   "nbconvert_exporter": "python",
   "pygments_lexer": "ipython3",
   "version": "3.11.7"
  }
 },
 "nbformat": 4,
 "nbformat_minor": 5
}
