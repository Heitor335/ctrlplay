{
 "cells": [
  {
   "cell_type": "code",
   "execution_count": 11,
   "id": "e3f7817e-82b9-46d6-977d-8834afeb3b37",
   "metadata": {},
   "outputs": [
    {
     "name": "stdout",
     "output_type": "stream",
     "text": [
      "8.0\n",
      "25.019992006393608\n",
      "3\n",
      "2\n"
     ]
    }
   ],
   "source": [
    "import math\n",
    "print(math.pow(2,3))\n",
    "print(math.sqrt(626))\n",
    "print(math.ceil(2.4))\n",
    "print(math.trunc(2.5))"
   ]
  },
  {
   "cell_type": "code",
   "execution_count": 19,
   "id": "57e1badd-a9bb-4517-87d8-4442776850ca",
   "metadata": {},
   "outputs": [
    {
     "name": "stdout",
     "output_type": "stream",
     "text": [
      "o arquivo nao existe\n"
     ]
    }
   ],
   "source": [
    "import os\n",
    "if os.path.exists(\"aula_9_apagar.txt\"):\n",
    "    os.remove(\"aula_9_apagar.txt\")\n",
    "else:\n",
    "    print(\"o arquivo nao existe\")"
   ]
  },
  {
   "cell_type": "code",
   "execution_count": 23,
   "id": "78b0a68b-2c30-4e13-b370-e1ecab6b51da",
   "metadata": {},
   "outputs": [
    {
     "name": "stdout",
     "output_type": "stream",
     "text": [
      " a pasta nao existe\n"
     ]
    }
   ],
   "source": [
    "import os\n",
    "if os.path.exists(\"pasta\"):\n",
    "    os.rmdir(\"pasta\")\n",
    "else:\n",
    "    print(\" a pasta nao existe\")"
   ]
  },
  {
   "cell_type": "code",
   "execution_count": 31,
   "id": "f2181399-f39b-49c6-b1e4-b4f2ff37a4ba",
   "metadata": {},
   "outputs": [
    {
     "name": "stdout",
     "output_type": "stream",
     "text": [
      "3\n",
      "Help on built-in function hypot in module math:\n",
      "\n",
      "hypot(...)\n",
      "    hypot(*coordinates) -> value\n",
      "    \n",
      "    Multidimensional Euclidean distance from the origin to a point.\n",
      "    \n",
      "    Roughly equivalent to:\n",
      "        sqrt(sum(x**2 for x in coordinates))\n",
      "    \n",
      "    For a two dimensional point (x, y), gives the hypotenuse\n",
      "    using the Pythagorean theorem:  sqrt(x*x + y*y).\n",
      "    \n",
      "    For example, the hypotenuse of a 3/4/5 right triangle is:\n",
      "    \n",
      "        >>> hypot(3.0, 4.0)\n",
      "        5.0\n",
      "\n"
     ]
    }
   ],
   "source": [
    "import math\n",
    "print(math.floor(3.14))\n",
    "help(math.hypot)"
   ]
  },
  {
   "cell_type": "code",
   "execution_count": 34,
   "id": "1d55d665-5377-4b7b-9a14-bfe064f5d27d",
   "metadata": {},
   "outputs": [
    {
     "name": "stdout",
     "output_type": "stream",
     "text": [
      "5.0\n"
     ]
    }
   ],
   "source": [
    "import math\n",
    "print(math.hypot(3,4))"
   ]
  },
  {
   "cell_type": "code",
   "execution_count": 40,
   "id": "672a4718-d856-4cc3-80c4-0aa37629c6d7",
   "metadata": {},
   "outputs": [
    {
     "name": "stdout",
     "output_type": "stream",
     "text": [
      "40\n",
      "20\n",
      "300\n",
      "3.0\n"
     ]
    }
   ],
   "source": [
    "import calculadora\n",
    "print(calculadora.soma(30,10))\n",
    "\n",
    "\n",
    "import calculadora\n",
    "print(calculadora.subtraçao(30,10))\n",
    "\n",
    "\n",
    "import calculadora\n",
    "print(calculadora.multiplicaçao(30,10))\n",
    "\n",
    "\n",
    "import calculadora\n",
    "print(calculadora.divisao(30,10))"
   ]
  },
  {
   "cell_type": "code",
   "execution_count": 46,
   "id": "f55c57b3-0461-476c-a4d0-5ba5edd85953",
   "metadata": {},
   "outputs": [
    {
     "name": "stdout",
     "output_type": "stream",
     "text": [
      "314.0\n"
     ]
    }
   ],
   "source": [
    "import matematica.geometria\n",
    "print(matematica.geometria.areadocirculo(10))"
   ]
  },
  {
   "cell_type": "code",
   "execution_count": 7,
   "id": "af5ee582-3f70-4456-a0aa-af267d3020b7",
   "metadata": {},
   "outputs": [
    {
     "name": "stdin",
     "output_type": "stream",
     "text": [
      " 2\n",
      " 4\n",
      " 6\n",
      " 8\n",
      " 10\n"
     ]
    },
    {
     "name": "stdout",
     "output_type": "stream",
     "text": [
      "5 valores pares\n"
     ]
    }
   ],
   "source": [
    "tot_par=0\n",
    "for cont in range(0,5):\n",
    "    num=int(input())\n",
    "    if num %2 ==0:\n",
    "        tot_par=tot_par+1\n",
    "print(\"{} valores pares\".format(tot_par))"
   ]
  }
 ],
 "metadata": {
  "kernelspec": {
   "display_name": "Python 3 (ipykernel)",
   "language": "python",
   "name": "python3"
  },
  "language_info": {
   "codemirror_mode": {
    "name": "ipython",
    "version": 3
   },
   "file_extension": ".py",
   "mimetype": "text/x-python",
   "name": "python",
   "nbconvert_exporter": "python",
   "pygments_lexer": "ipython3",
   "version": "3.11.7"
  }
 },
 "nbformat": 4,
 "nbformat_minor": 5
}
